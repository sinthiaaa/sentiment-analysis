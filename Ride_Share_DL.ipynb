{
  "nbformat": 4,
  "nbformat_minor": 0,
  "metadata": {
    "colab": {
      "provenance": []
    },
    "kernelspec": {
      "name": "python3",
      "display_name": "Python 3"
    },
    "language_info": {
      "name": "python"
    }
  },
  "cells": [
    {
      "cell_type": "code",
      "execution_count": null,
      "metadata": {
        "id": "v2Galn8ImcC3"
      },
      "outputs": [],
      "source": [
        "import pandas as pd\n",
        "import numpy as np\n",
        "import nltk\n",
        "\n",
        "from nltk.tokenize import word_tokenize\n",
        "import re\n",
        "\n",
        "import matplotlib.pyplot as plt\n",
        "%matplotlib inline\n",
        "\n",
        "from sklearn.metrics import accuracy_score, f1_score, confusion_matrix\n",
        "\n",
        "from keras.preprocessing.text import Tokenizer\n",
        "from tensorflow.keras.utils import to_categorical\n",
        "\n",
        "from keras.models import Sequential\n",
        "from keras.layers import Embedding, Bidirectional, LSTM, GRU, Dense, Dropout, SpatialDropout1D\n",
        "from keras.layers import Conv1D , GlobalMaxPooling1D,MaxPooling1D,Conv2D\n",
        "from keras.callbacks import ModelCheckpoint\n",
        "\n",
        "from tensorflow.keras.models import Sequential\n",
        "from tensorflow.keras.layers import Embedding, SpatialDropout1D, Conv1D, MaxPooling1D, Dropout, Bidirectional, GRU, Dense"
      ]
    },
    {
      "cell_type": "code",
      "source": [
        "num_classes = 3\n",
        "\n",
        "embed_num_dims = 200\n",
        "max_seq_len = 1000\n",
        "\n",
        "\n",
        "class_names = ['Positive', 'Negative','Neutral']"
      ],
      "metadata": {
        "id": "jXldUxQQmrvH"
      },
      "execution_count": null,
      "outputs": []
    },
    {
      "cell_type": "code",
      "source": [
        "def shuffle(df, n=1, axis=0):\n",
        "    df = df.copy()\n",
        "    for _ in range(n):\n",
        "      df.apply(np.random.shuffle, axis=axis)\n",
        "    return df"
      ],
      "metadata": {
        "id": "PvvNCChlmrxj"
      },
      "execution_count": null,
      "outputs": []
    },
    {
      "cell_type": "code",
      "source": [
        "data= pd.read_csv('/content/Final.csv')"
      ],
      "metadata": {
        "id": "-u-AotYomr0I"
      },
      "execution_count": null,
      "outputs": []
    },
    {
      "cell_type": "code",
      "source": [
        "print(data.columns)"
      ],
      "metadata": {
        "colab": {
          "base_uri": "https://localhost:8080/"
        },
        "id": "tOz1Btdrmr2m",
        "outputId": "8b6deffb-c0d9-457a-f073-a5ec777c368f"
      },
      "execution_count": null,
      "outputs": [
        {
          "output_type": "stream",
          "name": "stdout",
          "text": [
            "Index(['Comment', 'Category'], dtype='object')\n"
          ]
        }
      ]
    },
    {
      "cell_type": "code",
      "source": [
        "data.isnull().values.any()"
      ],
      "metadata": {
        "colab": {
          "base_uri": "https://localhost:8080/"
        },
        "id": "gsm828fFmr47",
        "outputId": "efefc169-6d97-43ec-99e5-e0c801140dd1"
      },
      "execution_count": null,
      "outputs": [
        {
          "output_type": "execute_result",
          "data": {
            "text/plain": [
              "True"
            ]
          },
          "metadata": {},
          "execution_count": 10
        }
      ]
    },
    {
      "cell_type": "code",
      "source": [
        "data.dropna(subset = ['Comment','Category'], inplace =True )"
      ],
      "metadata": {
        "id": "6hnVajSxmr7p"
      },
      "execution_count": null,
      "outputs": []
    },
    {
      "cell_type": "code",
      "source": [
        "data.isnull().values.any()"
      ],
      "metadata": {
        "colab": {
          "base_uri": "https://localhost:8080/"
        },
        "id": "kqFyUiJmmr-p",
        "outputId": "708f3b35-155c-4694-c96b-a019dd0f0065"
      },
      "execution_count": null,
      "outputs": [
        {
          "output_type": "execute_result",
          "data": {
            "text/plain": [
              "False"
            ]
          },
          "metadata": {},
          "execution_count": 12
        }
      ]
    },
    {
      "cell_type": "code",
      "source": [
        "import seaborn as sns\n",
        "sns.countplot(x='Category', data=data)"
      ],
      "metadata": {
        "colab": {
          "base_uri": "https://localhost:8080/",
          "height": 466
        },
        "id": "IE50-mkSmsA_",
        "outputId": "8d082366-0334-4f0b-80ff-0908fa484598"
      },
      "execution_count": null,
      "outputs": [
        {
          "output_type": "execute_result",
          "data": {
            "text/plain": [
              "<Axes: xlabel='Category', ylabel='count'>"
            ]
          },
          "metadata": {},
          "execution_count": 13
        },
        {
          "output_type": "display_data",
          "data": {
            "text/plain": [
              "<Figure size 640x480 with 1 Axes>"
            ],
            "image/png": "[encoded data removed]"
          },
          "metadata": {}
        }
      ]
    },
    {
      "cell_type": "code",
      "source": [
        "data.sort_values(by='Category', axis=0, inplace=True)\n",
        "\n",
        "data.set_index(keys=['Category'], drop=False,inplace=True)\n",
        "Categorys=data['Category'].unique().tolist()"
      ],
      "metadata": {
        "id": "rlLYxrOvmsD4"
      },
      "execution_count": null,
      "outputs": []
    },
    {
      "cell_type": "code",
      "source": [
        "positives = shuffle(data.loc[data.Category=='Positive'])\n",
        "negatives = shuffle(data.loc[data.Category=='Negative'])\n",
        "neutrals = shuffle(data.loc[data.Category=='Neutral'])"
      ],
      "metadata": {
        "colab": {
          "base_uri": "https://localhost:8080/"
        },
        "id": "xwu5Vyu9msGd",
        "outputId": "cdb18a32-011d-45f3-9473-191a1409f24d"
      },
      "execution_count": null,
      "outputs": [
        {
          "output_type": "stream",
          "name": "stderr",
          "text": [
            "/usr/local/lib/python3.10/dist-packages/pandas/core/apply.py:907: UserWarning: you are shuffling a 'Series' object which is not a subclass of 'Sequence'; `shuffle` is not guaranteed to behave correctly. E.g., non-numpy array/tensor objects with view semantics may contain duplicates after shuffling.\n",
            "  results[i] = self.f(v)\n",
            "/usr/local/lib/python3.10/dist-packages/pandas/core/apply.py:907: UserWarning: you are shuffling a 'Series' object which is not a subclass of 'Sequence'; `shuffle` is not guaranteed to behave correctly. E.g., non-numpy array/tensor objects with view semantics may contain duplicates after shuffling.\n",
            "  results[i] = self.f(v)\n",
            "/usr/local/lib/python3.10/dist-packages/pandas/core/apply.py:907: UserWarning: you are shuffling a 'Series' object which is not a subclass of 'Sequence'; `shuffle` is not guaranteed to behave correctly. E.g., non-numpy array/tensor objects with view semantics may contain duplicates after shuffling.\n",
            "  results[i] = self.f(v)\n"
          ]
        }
      ]
    },
    {
      "cell_type": "code",
      "source": [
        "positives_train = positives.iloc[0:int(positives.shape[0]*1)]\n",
        "positives_test = positives.iloc[0:int(positives.shape[0]*1)]\n",
        "\n",
        "negatives_train = negatives.iloc[0:int(negatives.shape[0]*1)]\n",
        "negatives_test = negatives.iloc[0:int(negatives.shape[0]*1)]\n",
        "\n",
        "neutrals_train = neutrals.iloc[0:int(neutrals.shape[0]*1)]\n",
        "neutrals_test = neutrals.iloc[0:int(neutrals.shape[0]*1)]\n",
        "\n",
        "data_train = pd.concat([positives_train, negatives_train, neutrals_train])\n",
        "data_test = pd.concat([positives_test, negatives_test, neutrals_test])\n",
        "\n",
        "print(data_train.shape)\n",
        "print(data_test.shape)"
      ],
      "metadata": {
        "colab": {
          "base_uri": "https://localhost:8080/"
        },
        "id": "OCez2en5msJG",
        "outputId": "8a52c29d-cf7b-4bc9-819a-e616ce89b23d"
      },
      "execution_count": null,
      "outputs": [
        {
          "output_type": "stream",
          "name": "stdout",
          "text": [
            "(12052, 2)\n",
            "(12052, 2)\n"
          ]
        }
      ]
    },
    {
      "cell_type": "code",
      "source": [
        "X_train = data_train.Comment\n",
        "X_test = data_test.Comment\n",
        "\n",
        "y_train = data_train.Category\n",
        "y_test = data_test.Category\n",
        "\n",
        "data = data_train.append(data_test, ignore_index=True)\n",
        "\n",
        "print(data.Category.value_counts())\n",
        "data.head(10)"
      ],
      "metadata": {
        "colab": {
          "base_uri": "https://localhost:8080/",
          "height": 487
        },
        "id": "FxBm5jAcmsLV",
        "outputId": "0f9718d2-8092-4df8-8db0-324e7df3d330"
      },
      "execution_count": null,
      "outputs": [
        {
          "output_type": "stream",
          "name": "stdout",
          "text": [
            "Negative    8084\n",
            "Positive    8060\n",
            "Neutral     7960\n",
            "Name: Category, dtype: int64\n"
          ]
        },
        {
          "output_type": "stream",
          "name": "stderr",
          "text": [
            "<ipython-input-17-3b91ed5e1a86>:7: FutureWarning: The frame.append method is deprecated and will be removed from pandas in a future version. Use pandas.concat instead.\n",
            "  data = data_train.append(data_test, ignore_index=True)\n"
          ]
        },
        {
          "output_type": "execute_result",
          "data": {
            "text/plain": [
              "                                             Comment  Category\n",
              "0                  It's an amazing ride sharing app.  Positive\n",
              "1    Great app disciplined drivers and safe to ride.  Positive\n",
              "2  Faster than any of the taxi companies in the O...  Positive\n",
              "3  Love the safety features for teenagers. Also, ...  Positive\n",
              "4                                          very good  Positive\n",
              "5                                               nice  Positive\n",
              "6  It was a pleasure to use. Not an avid travelle...  Positive\n",
              "7  Nice guy, interesting conversation, clean comf...  Positive\n",
              "8  Convenience - every time. I have been both a c...  Positive\n",
              "9  Great app!!! Never have been disappointed by P...  Positive"
            ],
            "text/html": [
              "\n",
              "  <div id=\"df-24c4ea0a-fb9c-40eb-a565-d0c7a24b4bdf\" class=\"colab-df-container\">\n",
              "    <div>\n",
              "<style scoped>\n",
              "    .dataframe tbody tr th:only-of-type {\n",
              "        vertical-align: middle;\n",
              "    }\n",
              "\n",
              "    .dataframe tbody tr th {\n",
              "        vertical-align: top;\n",
              "    }\n",
              "\n",
              "    .dataframe thead th {\n",
              "        text-align: right;\n",
              "    }\n",
              "</style>\n",
              "<table border=\"1\" class=\"dataframe\">\n",
              "  <thead>\n",
              "    <tr style=\"text-align: right;\">\n",
              "      <th></th>\n",
              "      <th>Comment</th>\n",
              "      <th>Category</th>\n",
              "    </tr>\n",
              "  </thead>\n",
              "  <tbody>\n",
              "    <tr>\n",
              "      <th>0</th>\n",
              "      <td>It's an amazing ride sharing app.</td>\n",
              "      <td>Positive</td>\n",
              "    </tr>\n",
              "    <tr>\n",
              "      <th>1</th>\n",
              "      <td>Great app disciplined drivers and safe to ride.</td>\n",
              "      <td>Positive</td>\n",
              "    </tr>\n",
              "    <tr>\n",
              "      <th>2</th>\n",
              "      <td>Faster than any of the taxi companies in the O...</td>\n",
              "      <td>Positive</td>\n",
              "    </tr>\n",
              "    <tr>\n",
              "      <th>3</th>\n",
              "      <td>Love the safety features for teenagers. Also, ...</td>\n",
              "      <td>Positive</td>\n",
              "    </tr>\n",
              "    <tr>\n",
              "      <th>4</th>\n",
              "      <td>very good</td>\n",
              "      <td>Positive</td>\n",
              "    </tr>\n",
              "    <tr>\n",
              "      <th>5</th>\n",
              "      <td>nice</td>\n",
              "      <td>Positive</td>\n",
              "    </tr>\n",
              "    <tr>\n",
              "      <th>6</th>\n",
              "      <td>It was a pleasure to use. Not an avid travelle...</td>\n",
              "      <td>Positive</td>\n",
              "    </tr>\n",
              "    <tr>\n",
              "      <th>7</th>\n",
              "      <td>Nice guy, interesting conversation, clean comf...</td>\n",
              "      <td>Positive</td>\n",
              "    </tr>\n",
              "    <tr>\n",
              "      <th>8</th>\n",
              "      <td>Convenience - every time. I have been both a c...</td>\n",
              "      <td>Positive</td>\n",
              "    </tr>\n",
              "    <tr>\n",
              "      <th>9</th>\n",
              "      <td>Great app!!! Never have been disappointed by P...</td>\n",
              "      <td>Positive</td>\n",
              "    </tr>\n",
              "  </tbody>\n",
              "</table>\n",
              "</div>\n",
              "    <div class=\"colab-df-buttons\">\n",
              "\n",
              "  <div class=\"colab-df-container\">\n",
              "    <button class=\"colab-df-convert\" onclick=\"convertToInteractive('df-24c4ea0a-fb9c-40eb-a565-d0c7a24b4bdf')\"\n",
              "            title=\"Convert this dataframe to an interactive table.\"\n",
              "            style=\"display:none;\">\n",
              "\n",
              "  <svg xmlns=\"http://www.w3.org/2000/svg\" height=\"24px\" viewBox=\"0 -960 960 960\">\n",
              "    <path d=\"M120-120v-720h720v720H120Zm60-500h600v-160H180v160Zm220 220h160v-160H400v160Zm0 220h160v-160H400v160ZM180-400h160v-160H180v160Zm440 0h160v-160H620v160ZM180-180h160v-160H180v160Zm440 0h160v-160H620v160Z\"/>\n",
              "  </svg>\n",
              "    </button>\n",
              "\n",
              "  <style>\n",
              "    .colab-df-container {\n",
              "      display:flex;\n",
              "      gap: 12px;\n",
              "    }\n",
              "\n",
              "    .colab-df-convert {\n",
              "      background-color: #E8F0FE;\n",
              "      border: none;\n",
              "      border-radius: 50%;\n",
              "      cursor: pointer;\n",
              "      display: none;\n",
              "      fill: #1967D2;\n",
              "      height: 32px;\n",
              "      padding: 0 0 0 0;\n",
              "      width: 32px;\n",
              "    }\n",
              "\n",
              "    .colab-df-convert:hover {\n",
              "      background-color: #E2EBFA;\n",
              "      box-shadow: 0px 1px 2px rgba(60, 64, 67, 0.3), 0px 1px 3px 1px rgba(60, 64, 67, 0.15);\n",
              "      fill: #174EA6;\n",
              "    }\n",
              "\n",
              "    .colab-df-buttons div {\n",
              "      margin-bottom: 4px;\n",
              "    }\n",
              "\n",
              "    [theme=dark] .colab-df-convert {\n",
              "      background-color: #3B4455;\n",
              "      fill: #D2E3FC;\n",
              "    }\n",
              "\n",
              "    [theme=dark] .colab-df-convert:hover {\n",
              "      background-color: #434B5C;\n",
              "      box-shadow: 0px 1px 3px 1px rgba(0, 0, 0, 0.15);\n",
              "      filter: drop-shadow(0px 1px 2px rgba(0, 0, 0, 0.3));\n",
              "      fill: #FFFFFF;\n",
              "    }\n",
              "  </style>\n",
              "\n",
              "    <script>\n",
              "      const buttonEl =\n",
              "        document.querySelector('#df-24c4ea0a-fb9c-40eb-a565-d0c7a24b4bdf button.colab-df-convert');\n",
              "      buttonEl.style.display =\n",
              "        google.colab.kernel.accessAllowed ? 'block' : 'none';\n",
              "\n",
              "      async function convertToInteractive(key) {\n",
              "        const element = document.querySelector('#df-24c4ea0a-fb9c-40eb-a565-d0c7a24b4bdf');\n",
              "        const dataTable =\n",
              "          await google.colab.kernel.invokeFunction('convertToInteractive',\n",
              "                                                    [key], {});\n",
              "        if (!dataTable) return;\n",
              "\n",
              "        const docLinkHtml = 'Like what you see? Visit the ' +\n",
              "          '<a target=\"_blank\" href=https://colab.research.google.com/notebooks/data_table.ipynb>data table notebook</a>'\n",
              "          + ' to learn more about interactive tables.';\n",
              "        element.innerHTML = '';\n",
              "        dataTable['output_type'] = 'display_data';\n",
              "        await google.colab.output.renderOutput(dataTable, element);\n",
              "        const docLink = document.createElement('div');\n",
              "        docLink.innerHTML = docLinkHtml;\n",
              "        element.appendChild(docLink);\n",
              "      }\n",
              "    </script>\n",
              "  </div>\n",
              "\n",
              "\n",
              "<div id=\"df-53c8e773-449f-4e77-b1a4-59cab31b10fa\">\n",
              "  <button class=\"colab-df-quickchart\" onclick=\"quickchart('df-53c8e773-449f-4e77-b1a4-59cab31b10fa')\"\n",
              "            title=\"Suggest charts\"\n",
              "            style=\"display:none;\">\n",
              "\n",
              "<svg xmlns=\"http://www.w3.org/2000/svg\" height=\"24px\"viewBox=\"0 0 24 24\"\n",
              "     width=\"24px\">\n",
              "    <g>\n",
              "        <path d=\"M19 3H5c-1.1 0-2 .9-2 2v14c0 1.1.9 2 2 2h14c1.1 0 2-.9 2-2V5c0-1.1-.9-2-2-2zM9 17H7v-7h2v7zm4 0h-2V7h2v10zm4 0h-2v-4h2v4z\"/>\n",
              "    </g>\n",
              "</svg>\n",
              "  </button>\n",
              "\n",
              "<style>\n",
              "  .colab-df-quickchart {\n",
              "      --bg-color: #E8F0FE;\n",
              "      --fill-color: #1967D2;\n",
              "      --hover-bg-color: #E2EBFA;\n",
              "      --hover-fill-color: #174EA6;\n",
              "      --disabled-fill-color: #AAA;\n",
              "      --disabled-bg-color: #DDD;\n",
              "  }\n",
              "\n",
              "  [theme=dark] .colab-df-quickchart {\n",
              "      --bg-color: #3B4455;\n",
              "      --fill-color: #D2E3FC;\n",
              "      --hover-bg-color: #434B5C;\n",
              "      --hover-fill-color: #FFFFFF;\n",
              "      --disabled-bg-color: #3B4455;\n",
              "      --disabled-fill-color: #666;\n",
              "  }\n",
              "\n",
              "  .colab-df-quickchart {\n",
              "    background-color: var(--bg-color);\n",
              "    border: none;\n",
              "    border-radius: 50%;\n",
              "    cursor: pointer;\n",
              "    display: none;\n",
              "    fill: var(--fill-color);\n",
              "    height: 32px;\n",
              "    padding: 0;\n",
              "    width: 32px;\n",
              "  }\n",
              "\n",
              "  .colab-df-quickchart:hover {\n",
              "    background-color: var(--hover-bg-color);\n",
              "    box-shadow: 0 1px 2px rgba(60, 64, 67, 0.3), 0 1px 3px 1px rgba(60, 64, 67, 0.15);\n",
              "    fill: var(--button-hover-fill-color);\n",
              "  }\n",
              "\n",
              "  .colab-df-quickchart-complete:disabled,\n",
              "  .colab-df-quickchart-complete:disabled:hover {\n",
              "    background-color: var(--disabled-bg-color);\n",
              "    fill: var(--disabled-fill-color);\n",
              "    box-shadow: none;\n",
              "  }\n",
              "\n",
              "  .colab-df-spinner {\n",
              "    border: 2px solid var(--fill-color);\n",
              "    border-color: transparent;\n",
              "    border-bottom-color: var(--fill-color);\n",
              "    animation:\n",
              "      spin 1s steps(1) infinite;\n",
              "  }\n",
              "\n",
              "  @keyframes spin {\n",
              "    0% {\n",
              "      border-color: transparent;\n",
              "      border-bottom-color: var(--fill-color);\n",
              "      border-left-color: var(--fill-color);\n",
              "    }\n",
              "    20% {\n",
              "      border-color: transparent;\n",
              "      border-left-color: var(--fill-color);\n",
              "      border-top-color: var(--fill-color);\n",
              "    }\n",
              "    30% {\n",
              "      border-color: transparent;\n",
              "      border-left-color: var(--fill-color);\n",
              "      border-top-color: var(--fill-color);\n",
              "      border-right-color: var(--fill-color);\n",
              "    }\n",
              "    40% {\n",
              "      border-color: transparent;\n",
              "      border-right-color: var(--fill-color);\n",
              "      border-top-color: var(--fill-color);\n",
              "    }\n",
              "    60% {\n",
              "      border-color: transparent;\n",
              "      border-right-color: var(--fill-color);\n",
              "    }\n",
              "    80% {\n",
              "      border-color: transparent;\n",
              "      border-right-color: var(--fill-color);\n",
              "      border-bottom-color: var(--fill-color);\n",
              "    }\n",
              "    90% {\n",
              "      border-color: transparent;\n",
              "      border-bottom-color: var(--fill-color);\n",
              "    }\n",
              "  }\n",
              "</style>\n",
              "\n",
              "  <script>\n",
              "    async function quickchart(key) {\n",
              "      const quickchartButtonEl =\n",
              "        document.querySelector('#' + key + ' button');\n",
              "      quickchartButtonEl.disabled = true;  // To prevent multiple clicks.\n",
              "      quickchartButtonEl.classList.add('colab-df-spinner');\n",
              "      try {\n",
              "        const charts = await google.colab.kernel.invokeFunction(\n",
              "            'suggestCharts', [key], {});\n",
              "      } catch (error) {\n",
              "        console.error('Error during call to suggestCharts:', error);\n",
              "      }\n",
              "      quickchartButtonEl.classList.remove('colab-df-spinner');\n",
              "      quickchartButtonEl.classList.add('colab-df-quickchart-complete');\n",
              "    }\n",
              "    (() => {\n",
              "      let quickchartButtonEl =\n",
              "        document.querySelector('#df-53c8e773-449f-4e77-b1a4-59cab31b10fa button');\n",
              "      quickchartButtonEl.style.display =\n",
              "        google.colab.kernel.accessAllowed ? 'block' : 'none';\n",
              "    })();\n",
              "  </script>\n",
              "</div>\n",
              "    </div>\n",
              "  </div>\n"
            ]
          },
          "metadata": {},
          "execution_count": 17
        }
      ]
    },
    {
      "cell_type": "code",
      "source": [
        "print(data.dtypes)\n"
      ],
      "metadata": {
        "colab": {
          "base_uri": "https://localhost:8080/"
        },
        "id": "Wp5H1cOmmsOJ",
        "outputId": "6099c49c-5314-472f-bb9f-aa9360eef89f"
      },
      "execution_count": null,
      "outputs": [
        {
          "output_type": "stream",
          "name": "stdout",
          "text": [
            "Comment     object\n",
            "Category    object\n",
            "dtype: object\n"
          ]
        }
      ]
    },
    {
      "cell_type": "code",
      "source": [
        "print(data_train.Category.value_counts())\n",
        "print(data_test.Category.value_counts())"
      ],
      "metadata": {
        "colab": {
          "base_uri": "https://localhost:8080/"
        },
        "id": "6bwp2Xu7msQt",
        "outputId": "46c43366-578d-42a0-b0c2-c6959c5bd6cf"
      },
      "execution_count": null,
      "outputs": [
        {
          "output_type": "stream",
          "name": "stdout",
          "text": [
            "Negative    4042\n",
            "Positive    4030\n",
            "Neutral     3980\n",
            "Name: Category, dtype: int64\n",
            "Negative    4042\n",
            "Positive    4030\n",
            "Neutral     3980\n",
            "Name: Category, dtype: int64\n"
          ]
        }
      ]
    },
    {
      "cell_type": "code",
      "source": [
        "def clean_text(data):\n",
        "    data = re.sub(r\"(#[\\d\\w\\.]+)\", '', data)\n",
        "    data = re.sub(r\"(@[\\d\\w\\.]+)\", '', data)\n",
        "    data = word_tokenize(data)\n",
        "\n",
        "    return data"
      ],
      "metadata": {
        "id": "BSKIRK9YmsTz"
      },
      "execution_count": null,
      "outputs": []
    },
    {
      "cell_type": "code",
      "source": [
        "import nltk\n",
        "nltk.download('punkt')"
      ],
      "metadata": {
        "colab": {
          "base_uri": "https://localhost:8080/"
        },
        "id": "un2rToiPmsWH",
        "outputId": "54d0e504-cd5c-49c3-a1ca-05caa66c3051"
      },
      "execution_count": null,
      "outputs": [
        {
          "output_type": "stream",
          "name": "stderr",
          "text": [
            "[nltk_data] Downloading package punkt to /root/nltk_data...\n",
            "[nltk_data]   Unzipping tokenizers/punkt.zip.\n"
          ]
        },
        {
          "output_type": "execute_result",
          "data": {
            "text/plain": [
              "True"
            ]
          },
          "metadata": {},
          "execution_count": 21
        }
      ]
    },
    {
      "cell_type": "code",
      "source": [
        "import re\n",
        "from nltk.tokenize import word_tokenize\n",
        "def remove_emojis(text):\n",
        "    # Emoji pattern: Matches any unicode emoji\n",
        "    emoji_pattern = re.compile(\"[\\U0001F600-\\U0001F64F]|[\\U0001F300-\\U0001F5FF]|[\\U0001F680-\\U0001F6FF]|[\\U0001F1E0-\\U0001F1FF]|[\\U00002702-\\U000027B0]|[\\U000024C2-\\U0001F251]\", flags=re.UNICODE)\n",
        "    return emoji_pattern.sub(r'', text)\n",
        "\n",
        "def clean_text(data):\n",
        "    # Check if data is None or NaN, and convert to an empty string\n",
        "    if data is None or pd.isnull(data):\n",
        "        data = ''\n",
        "\n",
        "    # Convert data to string if it's not already\n",
        "    if not isinstance(data, str):\n",
        "        data = str(data)\n",
        "\n",
        "    # Text cleaning operations\n",
        "    data = re.sub(r\"(#[\\d\\w\\.]+)\", '', data)\n",
        "    data = re.sub(r\"(@[\\d\\w\\.]+)\", '', data)\n",
        "    data = remove_emojis(data)\n",
        "    data_tokens = word_tokenize(data)\n",
        "    cleaned_data = ' '.join(data_tokens)\n",
        "\n",
        "    return cleaned_data\n",
        "\n",
        "texts = [clean_text(text) for text in data.Comment]\n",
        "texts_train = [clean_text(text) for text in X_train]\n",
        "texts_test = [clean_text(text) for text in X_test]\n",
        "\n",
        "print(texts_train[50])"
      ],
      "metadata": {
        "colab": {
          "base_uri": "https://localhost:8080/"
        },
        "id": "Ik69JCY_msZS",
        "outputId": "80a6c661-315b-4582-cda9-70fb811daec5"
      },
      "execution_count": null,
      "outputs": [
        {
          "output_type": "stream",
          "name": "stdout",
          "text": [
            "Pathao apps good parformach . I give five star\n"
          ]
        }
      ]
    },
    {
      "cell_type": "code",
      "source": [
        "tokenizer = Tokenizer()\n",
        "tokenizer.fit_on_texts(texts)\n",
        "\n",
        "sequence_train = tokenizer.texts_to_sequences(texts_train)\n",
        "sequence_test = tokenizer.texts_to_sequences(texts_test)\n",
        "\n",
        "index_of_words = tokenizer.word_index\n",
        "\n",
        "vocab_size = len(index_of_words) + 1\n",
        "\n",
        "print('Number of unique words: {}'.format(len(index_of_words)))"
      ],
      "metadata": {
        "colab": {
          "base_uri": "https://localhost:8080/"
        },
        "id": "IG_66kXHmsby",
        "outputId": "236f0f2f-3830-4f2a-ab78-e2ea885b1bc7"
      },
      "execution_count": null,
      "outputs": [
        {
          "output_type": "stream",
          "name": "stdout",
          "text": [
            "Number of unique words: 11476\n"
          ]
        }
      ]
    },
    {
      "cell_type": "code",
      "source": [
        "!pip install Keras-Preprocessing"
      ],
      "metadata": {
        "colab": {
          "base_uri": "https://localhost:8080/"
        },
        "id": "gTpayLT-mseR",
        "outputId": "c4d8525b-a4b8-4000-a5fc-91c3dde35f8f"
      },
      "execution_count": null,
      "outputs": [
        {
          "output_type": "stream",
          "name": "stdout",
          "text": [
            "Collecting Keras-Preprocessing\n",
            "  Downloading Keras_Preprocessing-1.1.2-py2.py3-none-any.whl (42 kB)\n",
            "\u001b[2K     \u001b[90m━━━━━━━━━━━━━━━━━━━━━━━━━━━━━━━━━━━━━━━━\u001b[0m \u001b[32m42.6/42.6 kB\u001b[0m \u001b[31m828.2 kB/s\u001b[0m eta \u001b[36m0:00:00\u001b[0m\n",
            "\u001b[?25hRequirement already satisfied: numpy>=1.9.1 in /usr/local/lib/python3.10/dist-packages (from Keras-Preprocessing) (1.23.5)\n",
            "Requirement already satisfied: six>=1.9.0 in /usr/local/lib/python3.10/dist-packages (from Keras-Preprocessing) (1.16.0)\n",
            "Installing collected packages: Keras-Preprocessing\n",
            "Successfully installed Keras-Preprocessing-1.1.2\n"
          ]
        }
      ]
    },
    {
      "cell_type": "code",
      "source": [
        "from keras_preprocessing.sequence import pad_sequences"
      ],
      "metadata": {
        "id": "3q8AI8mlmshI"
      },
      "execution_count": null,
      "outputs": []
    },
    {
      "cell_type": "code",
      "source": [
        "X_train_pad = pad_sequences(sequence_train, maxlen = max_seq_len )\n",
        "X_test_pad = pad_sequences(sequence_test, maxlen = max_seq_len )\n",
        "\n",
        "X_train_pad"
      ],
      "metadata": {
        "colab": {
          "base_uri": "https://localhost:8080/"
        },
        "id": "RTeabGLNmsma",
        "outputId": "420b9b25-d467-4b02-d515-b5fc3d191492"
      },
      "execution_count": null,
      "outputs": [
        {
          "output_type": "execute_result",
          "data": {
            "text/plain": [
              "array([[  0,   0,   0, ...,  22, 212,   8],\n",
              "       [  0,   0,   0, ..., 277,   2,  22],\n",
              "       [  0,   0,   0, ..., 174, 302, 366],\n",
              "       ...,\n",
              "       [  0,   0,   0, ..., 699,  22, 410],\n",
              "       [  0,   0,   0, ..., 421, 730, 201],\n",
              "       [  0,   0,   0, ..., 457,  41, 167]], dtype=int32)"
            ]
          },
          "metadata": {},
          "execution_count": 26
        }
      ]
    },
    {
      "cell_type": "code",
      "source": [
        "encoding = {\n",
        "    'Positive': 0,\n",
        "    'Negative': 1,\n",
        "    'Neutral': 2\n",
        "}\n",
        "\n",
        "y_train = [encoding[x] for x in data_train.Category]\n",
        "y_test = [encoding[x] for x in data_test.Category]\n",
        "\n",
        "y_train = to_categorical(y_train)\n",
        "y_test = to_categorical(y_test)\n",
        "\n",
        "y_train"
      ],
      "metadata": {
        "colab": {
          "base_uri": "https://localhost:8080/"
        },
        "id": "PW5JHlHdmsoW",
        "outputId": "bc36c6cf-690a-4cb9-d22c-74428849ecd3"
      },
      "execution_count": null,
      "outputs": [
        {
          "output_type": "execute_result",
          "data": {
            "text/plain": [
              "array([[1., 0., 0.],\n",
              "       [1., 0., 0.],\n",
              "       [1., 0., 0.],\n",
              "       ...,\n",
              "       [0., 0., 1.],\n",
              "       [0., 0., 1.],\n",
              "       [0., 0., 1.]], dtype=float32)"
            ]
          },
          "metadata": {},
          "execution_count": 27
        }
      ]
    },
    {
      "cell_type": "markdown",
      "source": [
        "**Glove Vectorization**"
      ],
      "metadata": {
        "id": "Gp1lYkmAoCZN"
      }
    },
    {
      "cell_type": "code",
      "source": [
        "GLOVE_DIM = 200\n",
        "\n",
        "import urllib.request\n",
        "import zipfile\n",
        "import os\n",
        "\n",
        "fname = 'glove.twitter.27B.' + str(GLOVE_DIM) + 'd.txt'\n",
        "\n",
        "if not os.path.isfile(fname):\n",
        "    print('Downloading word vectors...')\n",
        "    urllib.request.urlretrieve('http://nlp.stanford.edu/data/glove.twitter.27B.zip',\n",
        "                              'glove.twitter.27B.zip')\n",
        "    print('Unzipping...')\n",
        "    with zipfile.ZipFile('glove.twitter.27B.zip', 'r') as zip_ref:\n",
        "        zip_ref.extractall('')\n",
        "    print('done.')\n",
        "\n",
        "    os.remove('glove.twitter.27B.zip')"
      ],
      "metadata": {
        "colab": {
          "base_uri": "https://localhost:8080/"
        },
        "id": "tpSYl9udmsrK",
        "outputId": "fc27a896-c29c-45e7-db16-71a768b50dfa"
      },
      "execution_count": null,
      "outputs": [
        {
          "output_type": "stream",
          "name": "stdout",
          "text": [
            "Downloading word vectors...\n",
            "Unzipping...\n",
            "done.\n"
          ]
        }
      ]
    },
    {
      "cell_type": "code",
      "source": [
        "glove_file = 'glove.twitter.27B.' + str(GLOVE_DIM) + 'd.txt'\n",
        "emb_dict = {}\n",
        "glove = open(glove_file)\n",
        "for line in glove:\n",
        "    values = line.split()\n",
        "    word = values[0]\n",
        "    vector = np.asarray(values[1:], dtype='float32')\n",
        "    emb_dict[word] = vector\n",
        "glove.close()\n",
        "\n",
        "NB_WORDS = vocab_size\n",
        "MAX_LEN = max_seq_len\n",
        "\n",
        "emb_matrix = np.zeros((NB_WORDS, GLOVE_DIM))\n",
        "for w, i in tokenizer.word_index.items():\n",
        "    if i < NB_WORDS:\n",
        "        vect = emb_dict.get(w)\n",
        "        if vect is not None:\n",
        "          emb_matrix[i] = vect\n",
        "    else:\n",
        "        break"
      ],
      "metadata": {
        "id": "RQ-Awk9tmsuc"
      },
      "execution_count": null,
      "outputs": []
    },
    {
      "cell_type": "markdown",
      "source": [
        "**1. LSTM**"
      ],
      "metadata": {
        "id": "-uFStRLyqBCW"
      }
    },
    {
      "cell_type": "code",
      "source": [
        "embedd_layer = Embedding(vocab_size,\n",
        "                         GLOVE_DIM,\n",
        "                         input_length = max_seq_len,\n",
        "                         weights = [emb_matrix],\n",
        "                         trainable=False)\n",
        "\n",
        "lstm_size = 128"
      ],
      "metadata": {
        "id": "gWGCTofwmsw5"
      },
      "execution_count": null,
      "outputs": []
    },
    {
      "cell_type": "code",
      "source": [
        "model = Sequential()\n",
        "model.add(embedd_layer)\n",
        "\n",
        "model.add(SpatialDropout1D(0.2))\n",
        "\n",
        "model.add(Conv1D(filters=32, kernel_size=3, padding='same', activation='relu'))\n",
        "model.add(MaxPooling1D(pool_size=2))\n",
        "\n",
        "model.add(Conv1D(filters=32, kernel_size=3, padding='same', activation='relu'))\n",
        "model.add(MaxPooling1D(pool_size=2))\n",
        "\n",
        "model.add(Dropout(0.5))\n",
        "\n",
        "\n",
        "model.add(LSTM(lstm_size, return_sequences=True))\n",
        "model.add(Dropout(0.5))\n",
        "\n",
        "\n",
        "model.add(LSTM(lstm_size))\n",
        "model.add(Dropout(0.5))\n",
        "\n",
        "model.add(Dense(num_classes, activation='softmax'))\n",
        "\n",
        "model.compile(loss='categorical_crossentropy', optimizer='adam', metrics=['accuracy'])\n",
        "model.summary()"
      ],
      "metadata": {
        "colab": {
          "base_uri": "https://localhost:8080/"
        },
        "id": "4BoEOBlgmszk",
        "outputId": "e9012c34-4b5d-4cad-e9f9-bfdb3bf23319"
      },
      "execution_count": null,
      "outputs": [
        {
          "output_type": "stream",
          "name": "stdout",
          "text": [
            "Model: \"sequential\"\n",
            "_________________________________________________________________\n",
            " Layer (type)                Output Shape              Param #   \n",
            "=================================================================\n",
            " embedding (Embedding)       (None, 1000, 200)         2295400   \n",
            "                                                                 \n",
            " spatial_dropout1d (Spatial  (None, 1000, 200)         0         \n",
            " Dropout1D)                                                      \n",
            "                                                                 \n",
            " conv1d (Conv1D)             (None, 1000, 32)          19232     \n",
            "                                                                 \n",
            " max_pooling1d (MaxPooling1  (None, 500, 32)           0         \n",
            " D)                                                              \n",
            "                                                                 \n",
            " conv1d_1 (Conv1D)           (None, 500, 32)           3104      \n",
            "                                                                 \n",
            " max_pooling1d_1 (MaxPoolin  (None, 250, 32)           0         \n",
            " g1D)                                                            \n",
            "                                                                 \n",
            " dropout (Dropout)           (None, 250, 32)           0         \n",
            "                                                                 \n",
            " lstm (LSTM)                 (None, 250, 128)          82432     \n",
            "                                                                 \n",
            " dropout_1 (Dropout)         (None, 250, 128)          0         \n",
            "                                                                 \n",
            " lstm_1 (LSTM)               (None, 128)               131584    \n",
            "                                                                 \n",
            " dropout_2 (Dropout)         (None, 128)               0         \n",
            "                                                                 \n",
            " dense (Dense)               (None, 3)                 387       \n",
            "                                                                 \n",
            "=================================================================\n",
            "Total params: 2532139 (9.66 MB)\n",
            "Trainable params: 236739 (924.76 KB)\n",
            "Non-trainable params: 2295400 (8.76 MB)\n",
            "_________________________________________________________________\n"
          ]
        }
      ]
    },
    {
      "cell_type": "code",
      "source": [
        "from time import time\n",
        "t1 = time()\n",
        "\n",
        "batch_size = 256\n",
        "epochs = 70\n",
        "\n",
        "print(X_test_pad.shape)\n",
        "print(y_test.shape)\n",
        "\n",
        "print(X_train_pad.shape)\n",
        "print(y_train.shape)"
      ],
      "metadata": {
        "colab": {
          "base_uri": "https://localhost:8080/"
        },
        "id": "WC0eEOPsms4Y",
        "outputId": "36e65e9a-a07a-441e-efff-9c0a582e0899"
      },
      "execution_count": null,
      "outputs": [
        {
          "output_type": "stream",
          "name": "stdout",
          "text": [
            "(12052, 1000)\n",
            "(12052, 3)\n",
            "(12052, 1000)\n",
            "(12052, 3)\n"
          ]
        }
      ]
    },
    {
      "cell_type": "code",
      "source": [
        "hist = model.fit(X_train_pad, y_train,\n",
        "                 batch_size=batch_size,\n",
        "                 epochs=epochs,\n",
        "                 validation_data=(X_test_pad,y_test))"
      ],
      "metadata": {
        "colab": {
          "base_uri": "https://localhost:8080/"
        },
        "id": "KBM9LjdBms63",
        "outputId": "986761be-b527-44a8-8b79-4c350e95cb21"
      },
      "execution_count": null,
      "outputs": [
        {
          "output_type": "stream",
          "name": "stdout",
          "text": [
            "Epoch 1/70\n",
            "48/48 [==============================] - 266s 5s/step - loss: 0.9823 - accuracy: 0.4995 - val_loss: 0.7968 - val_accuracy: 0.6401\n",
            "Epoch 2/70\n",
            "48/48 [==============================] - 269s 6s/step - loss: 0.7730 - accuracy: 0.6355 - val_loss: 0.6609 - val_accuracy: 0.6994\n",
            "Epoch 3/70\n",
            "48/48 [==============================] - 268s 6s/step - loss: 0.6673 - accuracy: 0.6950 - val_loss: 0.5532 - val_accuracy: 0.7576\n",
            "Epoch 4/70\n",
            "48/48 [==============================] - 290s 6s/step - loss: 0.6023 - accuracy: 0.7351 - val_loss: 0.5175 - val_accuracy: 0.7844\n",
            "Epoch 5/70\n",
            "48/48 [==============================] - 267s 6s/step - loss: 0.5703 - accuracy: 0.7592 - val_loss: 0.4916 - val_accuracy: 0.7937\n",
            "Epoch 6/70\n",
            "48/48 [==============================] - 325s 7s/step - loss: 0.5501 - accuracy: 0.7680 - val_loss: 0.4789 - val_accuracy: 0.8009\n",
            "Epoch 7/70\n",
            "48/48 [==============================] - 266s 6s/step - loss: 0.5337 - accuracy: 0.7705 - val_loss: 0.4655 - val_accuracy: 0.8058\n",
            "Epoch 8/70\n",
            "48/48 [==============================] - 266s 6s/step - loss: 0.5262 - accuracy: 0.7741 - val_loss: 0.4661 - val_accuracy: 0.8011\n",
            "Epoch 9/70\n",
            "48/48 [==============================] - 295s 6s/step - loss: 0.5102 - accuracy: 0.7814 - val_loss: 0.4419 - val_accuracy: 0.8169\n",
            "Epoch 10/70\n",
            "48/48 [==============================] - 267s 6s/step - loss: 0.5002 - accuracy: 0.7860 - val_loss: 0.4332 - val_accuracy: 0.8166\n",
            "Epoch 11/70\n",
            "48/48 [==============================] - 333s 7s/step - loss: 0.4987 - accuracy: 0.7904 - val_loss: 0.4503 - val_accuracy: 0.8124\n",
            "Epoch 12/70\n",
            "48/48 [==============================] - 266s 6s/step - loss: 0.4915 - accuracy: 0.7917 - val_loss: 0.4356 - val_accuracy: 0.8229\n",
            "Epoch 13/70\n",
            "48/48 [==============================] - 271s 6s/step - loss: 0.4811 - accuracy: 0.8001 - val_loss: 0.4029 - val_accuracy: 0.8335\n",
            "Epoch 14/70\n",
            "48/48 [==============================] - 288s 6s/step - loss: 0.4709 - accuracy: 0.7995 - val_loss: 0.4112 - val_accuracy: 0.8374\n",
            "Epoch 15/70\n",
            "48/48 [==============================] - 272s 6s/step - loss: 0.4616 - accuracy: 0.8084 - val_loss: 0.4001 - val_accuracy: 0.8366\n",
            "Epoch 16/70\n",
            "48/48 [==============================] - 298s 6s/step - loss: 0.4549 - accuracy: 0.8099 - val_loss: 0.4152 - val_accuracy: 0.8244\n",
            "Epoch 17/70\n",
            "48/48 [==============================] - 266s 6s/step - loss: 0.4510 - accuracy: 0.8097 - val_loss: 0.3736 - val_accuracy: 0.8475\n",
            "Epoch 18/70\n",
            "48/48 [==============================] - 293s 6s/step - loss: 0.4464 - accuracy: 0.8115 - val_loss: 0.3818 - val_accuracy: 0.8458\n",
            "Epoch 19/70\n",
            "48/48 [==============================] - 281s 6s/step - loss: 0.4425 - accuracy: 0.8182 - val_loss: 0.3643 - val_accuracy: 0.8520\n",
            "Epoch 20/70\n",
            "48/48 [==============================] - 266s 6s/step - loss: 0.4393 - accuracy: 0.8169 - val_loss: 0.3592 - val_accuracy: 0.8572\n",
            "Epoch 21/70\n",
            "48/48 [==============================] - 287s 6s/step - loss: 0.4307 - accuracy: 0.8229 - val_loss: 0.3563 - val_accuracy: 0.8600\n",
            "Epoch 22/70\n",
            "48/48 [==============================] - 273s 6s/step - loss: 0.4270 - accuracy: 0.8209 - val_loss: 0.3431 - val_accuracy: 0.8627\n",
            "Epoch 23/70\n",
            "48/48 [==============================] - 293s 6s/step - loss: 0.4227 - accuracy: 0.8261 - val_loss: 0.3470 - val_accuracy: 0.8571\n",
            "Epoch 24/70\n",
            "48/48 [==============================] - 276s 6s/step - loss: 0.4140 - accuracy: 0.8307 - val_loss: 0.3335 - val_accuracy: 0.8677\n",
            "Epoch 25/70\n",
            "48/48 [==============================] - 328s 7s/step - loss: 0.4015 - accuracy: 0.8331 - val_loss: 0.3392 - val_accuracy: 0.8652\n",
            "Epoch 26/70\n",
            "48/48 [==============================] - 260s 5s/step - loss: 0.4226 - accuracy: 0.8285 - val_loss: 0.3584 - val_accuracy: 0.8523\n",
            "Epoch 27/70\n",
            "48/48 [==============================] - 267s 6s/step - loss: 0.4040 - accuracy: 0.8325 - val_loss: 0.3269 - val_accuracy: 0.8726\n",
            "Epoch 28/70\n",
            "48/48 [==============================] - 283s 6s/step - loss: 0.3907 - accuracy: 0.8390 - val_loss: 0.3134 - val_accuracy: 0.8770\n",
            "Epoch 29/70\n",
            "48/48 [==============================] - 267s 6s/step - loss: 0.3902 - accuracy: 0.8419 - val_loss: 0.2957 - val_accuracy: 0.8863\n",
            "Epoch 30/70\n",
            "48/48 [==============================] - 286s 6s/step - loss: 0.3786 - accuracy: 0.8458 - val_loss: 0.3071 - val_accuracy: 0.8804\n",
            "Epoch 31/70\n",
            "48/48 [==============================] - 268s 6s/step - loss: 0.3847 - accuracy: 0.8429 - val_loss: 0.3305 - val_accuracy: 0.8660\n",
            "Epoch 32/70\n",
            "48/48 [==============================] - 335s 7s/step - loss: 0.3799 - accuracy: 0.8486 - val_loss: 0.2854 - val_accuracy: 0.8916\n",
            "Epoch 33/70\n",
            "48/48 [==============================] - 271s 6s/step - loss: 0.3705 - accuracy: 0.8486 - val_loss: 0.2836 - val_accuracy: 0.8966\n",
            "Epoch 34/70\n",
            "48/48 [==============================] - 328s 7s/step - loss: 0.3668 - accuracy: 0.8528 - val_loss: 0.2727 - val_accuracy: 0.8973\n",
            "Epoch 35/70\n",
            "48/48 [==============================] - 273s 6s/step - loss: 0.3572 - accuracy: 0.8562 - val_loss: 0.2741 - val_accuracy: 0.8963\n",
            "Epoch 36/70\n",
            "48/48 [==============================] - 327s 7s/step - loss: 0.3645 - accuracy: 0.8558 - val_loss: 0.2684 - val_accuracy: 0.9033\n",
            "Epoch 37/70\n",
            "48/48 [==============================] - 274s 6s/step - loss: 0.3586 - accuracy: 0.8593 - val_loss: 0.2630 - val_accuracy: 0.9024\n",
            "Epoch 38/70\n",
            "48/48 [==============================] - 332s 7s/step - loss: 0.3580 - accuracy: 0.8598 - val_loss: 0.2533 - val_accuracy: 0.9079\n",
            "Epoch 39/70\n",
            "48/48 [==============================] - 269s 6s/step - loss: 0.3520 - accuracy: 0.8604 - val_loss: 0.2633 - val_accuracy: 0.9052\n",
            "Epoch 40/70\n",
            "48/48 [==============================] - 267s 6s/step - loss: 0.3433 - accuracy: 0.8609 - val_loss: 0.2580 - val_accuracy: 0.9092\n",
            "Epoch 41/70\n",
            "48/48 [==============================] - 292s 6s/step - loss: 0.3412 - accuracy: 0.8672 - val_loss: 0.2488 - val_accuracy: 0.9070\n",
            "Epoch 42/70\n",
            "48/48 [==============================] - 267s 6s/step - loss: 0.3411 - accuracy: 0.8656 - val_loss: 0.2561 - val_accuracy: 0.9054\n",
            "Epoch 43/70\n",
            "48/48 [==============================] - 297s 6s/step - loss: 0.3395 - accuracy: 0.8672 - val_loss: 0.2617 - val_accuracy: 0.9091\n",
            "Epoch 44/70\n",
            "48/48 [==============================] - 268s 6s/step - loss: 0.3327 - accuracy: 0.8681 - val_loss: 0.2459 - val_accuracy: 0.9117\n",
            "Epoch 45/70\n",
            "48/48 [==============================] - 326s 7s/step - loss: 0.3317 - accuracy: 0.8690 - val_loss: 0.2377 - val_accuracy: 0.9132\n",
            "Epoch 46/70\n",
            "48/48 [==============================] - 267s 6s/step - loss: 0.3302 - accuracy: 0.8663 - val_loss: 0.2311 - val_accuracy: 0.9194\n",
            "Epoch 47/70\n",
            "48/48 [==============================] - 269s 6s/step - loss: 0.3219 - accuracy: 0.8755 - val_loss: 0.2288 - val_accuracy: 0.9205\n",
            "Epoch 48/70\n",
            "48/48 [==============================] - 293s 6s/step - loss: 0.3330 - accuracy: 0.8687 - val_loss: 0.2273 - val_accuracy: 0.9210\n",
            "Epoch 49/70\n",
            "48/48 [==============================] - 267s 6s/step - loss: 0.3282 - accuracy: 0.8682 - val_loss: 0.2414 - val_accuracy: 0.9147\n",
            "Epoch 50/70\n",
            "48/48 [==============================] - 290s 6s/step - loss: 0.3178 - accuracy: 0.8740 - val_loss: 0.2146 - val_accuracy: 0.9246\n",
            "Epoch 51/70\n",
            "48/48 [==============================] - 266s 6s/step - loss: 0.3138 - accuracy: 0.8747 - val_loss: 0.2058 - val_accuracy: 0.9274\n",
            "Epoch 52/70\n",
            "48/48 [==============================] - 273s 6s/step - loss: 0.3176 - accuracy: 0.8773 - val_loss: 0.2072 - val_accuracy: 0.9285\n",
            "Epoch 53/70\n",
            "48/48 [==============================] - 288s 6s/step - loss: 0.3152 - accuracy: 0.8760 - val_loss: 0.2131 - val_accuracy: 0.9246\n",
            "Epoch 54/70\n",
            "48/48 [==============================] - 273s 6s/step - loss: 0.3056 - accuracy: 0.8810 - val_loss: 0.2213 - val_accuracy: 0.9201\n",
            "Epoch 55/70\n",
            "48/48 [==============================] - 331s 7s/step - loss: 0.3146 - accuracy: 0.8773 - val_loss: 0.2091 - val_accuracy: 0.9300\n",
            "Epoch 56/70\n",
            "48/48 [==============================] - 274s 6s/step - loss: 0.3086 - accuracy: 0.8823 - val_loss: 0.2013 - val_accuracy: 0.9301\n",
            "Epoch 57/70\n",
            "48/48 [==============================] - 269s 6s/step - loss: 0.2905 - accuracy: 0.8863 - val_loss: 0.2192 - val_accuracy: 0.9164\n",
            "Epoch 58/70\n",
            "48/48 [==============================] - 297s 6s/step - loss: 0.3098 - accuracy: 0.8765 - val_loss: 0.1906 - val_accuracy: 0.9350\n",
            "Epoch 59/70\n",
            "48/48 [==============================] - 271s 6s/step - loss: 0.3061 - accuracy: 0.8803 - val_loss: 0.1937 - val_accuracy: 0.9358\n",
            "Epoch 60/70\n",
            "48/48 [==============================] - 265s 6s/step - loss: 0.2985 - accuracy: 0.8857 - val_loss: 0.2079 - val_accuracy: 0.9280\n",
            "Epoch 61/70\n",
            "48/48 [==============================] - 292s 6s/step - loss: 0.3002 - accuracy: 0.8799 - val_loss: 0.2004 - val_accuracy: 0.9318\n",
            "Epoch 62/70\n",
            "48/48 [==============================] - 264s 6s/step - loss: 0.2933 - accuracy: 0.8865 - val_loss: 0.2026 - val_accuracy: 0.9268\n",
            "Epoch 63/70\n",
            "48/48 [==============================] - 274s 6s/step - loss: 0.2930 - accuracy: 0.8848 - val_loss: 0.1850 - val_accuracy: 0.9378\n",
            "Epoch 64/70\n",
            "48/48 [==============================] - 292s 6s/step - loss: 0.2839 - accuracy: 0.8903 - val_loss: 0.2088 - val_accuracy: 0.9229\n",
            "Epoch 65/70\n",
            "48/48 [==============================] - 274s 6s/step - loss: 0.2856 - accuracy: 0.8871 - val_loss: 0.1803 - val_accuracy: 0.9363\n",
            "Epoch 66/70\n",
            "48/48 [==============================] - 268s 6s/step - loss: 0.2888 - accuracy: 0.8834 - val_loss: 0.1839 - val_accuracy: 0.9393\n",
            "Epoch 67/70\n",
            "48/48 [==============================] - 299s 6s/step - loss: 0.2900 - accuracy: 0.8877 - val_loss: 0.1784 - val_accuracy: 0.9412\n",
            "Epoch 68/70\n",
            "48/48 [==============================] - 260s 5s/step - loss: 0.2821 - accuracy: 0.8913 - val_loss: 0.1678 - val_accuracy: 0.9431\n",
            "Epoch 69/70\n",
            "48/48 [==============================] - 275s 6s/step - loss: 0.2753 - accuracy: 0.8891 - val_loss: 0.1638 - val_accuracy: 0.9434\n",
            "Epoch 70/70\n",
            "48/48 [==============================] - 285s 6s/step - loss: 0.2777 - accuracy: 0.8940 - val_loss: 0.1698 - val_accuracy: 0.9461\n"
          ]
        }
      ]
    },
    {
      "cell_type": "code",
      "source": [
        "t2 = time()\n",
        "t_delta = round(t2-t1,2)\n",
        "print(t_delta)"
      ],
      "metadata": {
        "colab": {
          "base_uri": "https://localhost:8080/"
        },
        "id": "yaD4C_Epms9G",
        "outputId": "bdb7f0da-27c6-472c-f404-dd2c10a040d9"
      },
      "execution_count": null,
      "outputs": [
        {
          "output_type": "stream",
          "name": "stdout",
          "text": [
            "19827.41\n"
          ]
        }
      ]
    },
    {
      "cell_type": "code",
      "source": [
        "# Accuracy\n",
        "plt.plot(hist.history['accuracy'])\n",
        "plt.plot(hist.history['val_accuracy'])\n",
        "plt.title('model accuracy')\n",
        "plt.ylabel('accuracy')\n",
        "plt.xlabel('epoch')\n",
        "plt.legend(['train', 'validation'], loc='upper left')\n",
        "plt.show()\n",
        "\n",
        "# Loss\n",
        "plt.plot(hist.history['loss'])\n",
        "plt.plot(hist.history['val_loss'])\n",
        "plt.title('model loss')\n",
        "plt.ylabel('loss')\n",
        "plt.xlabel('epoch')\n",
        "plt.legend(['train', 'validation'], loc='upper left')\n",
        "plt.show()"
      ],
      "metadata": {
        "colab": {
          "base_uri": "https://localhost:8080/",
          "height": 927
        },
        "id": "KR1gjKsems_r",
        "outputId": "c48bd16b-fcaf-404e-dfeb-54ad3f9bb963"
      },
      "execution_count": null,
      "outputs": [
        {
          "output_type": "display_data",
          "data": {
            "text/plain": [
              "<Figure size 640x480 with 1 Axes>"
            ],
            "image/png": "[encoded data removed]"
          },
          "metadata": {}
        },
        {
          "output_type": "display_data",
          "data": {
            "text/plain": [
              "<Figure size 640x480 with 1 Axes>"
            ],
            "image/png": "[encoded data removed]"
          },
          "metadata": {}
        }
      ]
    },
    {
      "cell_type": "code",
      "source": [
        "import numpy as np\n",
        "from sklearn.metrics import precision_recall_fscore_support"
      ],
      "metadata": {
        "id": "TqAShOM5mtCk"
      },
      "execution_count": null,
      "outputs": []
    },
    {
      "cell_type": "code",
      "source": [
        "predictions = model.predict(X_test_pad)\n",
        "predictions = np.argmax(predictions, axis=1)\n",
        "predictions = [class_names[pred] for pred in predictions]"
      ],
      "metadata": {
        "colab": {
          "base_uri": "https://localhost:8080/"
        },
        "id": "BwuNoVaRmtFe",
        "outputId": "cefff5d2-ec9b-47c3-a440-4288b3c0e070"
      },
      "execution_count": null,
      "outputs": [
        {
          "output_type": "stream",
          "name": "stdout",
          "text": [
            "377/377 [==============================] - 115s 302ms/step\n"
          ]
        }
      ]
    },
    {
      "cell_type": "code",
      "source": [
        "import numpy as np\n",
        "from sklearn.metrics import precision_recall_fscore_support"
      ],
      "metadata": {
        "id": "T8T-xFcAqfzV"
      },
      "execution_count": null,
      "outputs": []
    },
    {
      "cell_type": "code",
      "source": [
        "print(precision_recall_fscore_support(data_test.Category, predictions, average='micro'))\n",
        "print(precision_recall_fscore_support(data_test.Category, predictions, average='macro'))\n",
        "print(precision_recall_fscore_support(data_test.Category, predictions, average='weighted'))"
      ],
      "metadata": {
        "colab": {
          "base_uri": "https://localhost:8080/"
        },
        "id": "eEuKD-epqf2X",
        "outputId": "a4638a45-e9fb-4a07-c7ef-834fe041cfaa"
      },
      "execution_count": null,
      "outputs": [
        {
          "output_type": "stream",
          "name": "stdout",
          "text": [
            "(0.9460670428144706, 0.9460670428144706, 0.9460670428144706, None)\n",
            "(0.9459570307565732, 0.945935264441825, 0.94587333352516, None)\n",
            "(0.9459794642779512, 0.9460670428144706, 0.9459507764365074, None)\n"
          ]
        }
      ]
    },
    {
      "cell_type": "code",
      "source": [
        "\n",
        "def plot_confusion_matrix(y_true, y_pred, classes,\n",
        "                          normalize=False,\n",
        "                          title=None,\n",
        "                          cmap=plt.cm.Blues):\n",
        "    if not title:\n",
        "        if normalize:\n",
        "            title = 'Normalized confusion matrix'\n",
        "        else:\n",
        "            title = 'Confusion matrix, without normalization'\n",
        "\n",
        "    cm = confusion_matrix(y_true, y_pred)\n",
        "\n",
        "    if normalize:\n",
        "        cm = cm.astype('float') / cm.sum(axis=1)[:, np.newaxis]\n",
        "\n",
        "    fig, ax = plt.subplots()\n",
        "\n",
        "    fig.set_size_inches(12.5, 7.5)\n",
        "    im = ax.imshow(cm, interpolation='nearest', cmap=cmap)\n",
        "    ax.figure.colorbar(im, ax=ax)\n",
        "    ax.grid(False)\n",
        "\n",
        "    ax.set(xticks=np.arange(cm.shape[1]),\n",
        "           yticks=np.arange(cm.shape[0]),\n",
        "           xticklabels=classes, yticklabels=classes,\n",
        "           title=title,\n",
        "           ylabel='True label',\n",
        "           xlabel='Predicted label')\n",
        "\n",
        "    plt.setp(ax.get_xticklabels(), rotation=45, ha=\"right\",\n",
        "             rotation_mode=\"anchor\")\n",
        "\n",
        "    fmt = '.2f' if normalize else 'd'\n",
        "    thresh = cm.max() / 2.\n",
        "    for i in range(cm.shape[0]):\n",
        "        for j in range(cm.shape[1]):\n",
        "            ax.text(j, i, format(cm[i, j], fmt),\n",
        "                    ha=\"center\", va=\"center\",\n",
        "                    color=\"white\" if cm[i, j] > thresh else \"black\")\n",
        "    fig.tight_layout()\n",
        "    return ax\n",
        "\n",
        "print(\"\\nF1 Score: {:.2f}\".format(f1_score(data_test.Category, predictions, average='micro') * 100))\n",
        "\n",
        "plot_confusion_matrix(data_test.Category, predictions, classes=class_names, normalize=True, title='Normalized confusion matrix')\n",
        "plt.show()\n",
        "\n",
        "print('Message: {}\\nPredicted: {}'.format(X_test[6], predictions[6]))"
      ],
      "metadata": {
        "colab": {
          "base_uri": "https://localhost:8080/",
          "height": 826
        },
        "id": "y3KnF6eIqf46",
        "outputId": "e431a75b-7af3-43d9-c99a-7e0a8efce72d"
      },
      "execution_count": null,
      "outputs": [
        {
          "output_type": "stream",
          "name": "stdout",
          "text": [
            "\n",
            "F1 Score: 94.61\n"
          ]
        },
        {
          "output_type": "display_data",
          "data": {
            "text/plain": [
              "<Figure size 1250x750 with 2 Axes>"
            ],
            "image/png": "[encoded data removed]"
          },
          "metadata": {}
        },
        {
          "output_type": "stream",
          "name": "stdout",
          "text": [
            "Message: It was a pleasure to use. Not an avid traveller so relied on uber to make my journey and what a breeze it was!\n",
            "Predicted: Positive\n"
          ]
        }
      ]
    },
    {
      "cell_type": "code",
      "source": [
        "from sklearn.metrics import accuracy_score, precision_score, recall_score, f1_score\n",
        "print('\\nAccuracy: {:.2f}\\n'.format(accuracy_score(data_test.Category, predictions)))\n",
        "\n",
        "print('Micro Precision: {:.2f}'.format(precision_score(data_test.Category, predictions, average='micro')))\n",
        "print('Micro Recall: {:.2f}'.format(recall_score(data_test.Category, predictions, average='micro')))\n",
        "print('Micro F1-score: {:.2f}\\n'.format(f1_score(data_test.Category, predictions, average='micro')))\n",
        "\n",
        "print('Macro Precision: {:.2f}'.format(precision_score(data_test.Category, predictions, average='macro')))\n",
        "print('Macro Recall: {:.2f}'.format(recall_score(data_test.Category, predictions, average='macro')))\n",
        "print('Macro F1-score: {:.2f}\\n'.format(f1_score(data_test.Category, predictions, average='macro')))\n",
        "\n",
        "print('Weighted Precision: {:.2f}'.format(precision_score(data_test.Category, predictions, average='weighted')))\n",
        "print('Weighted Recall: {:.2f}'.format(recall_score(data_test.Category, predictions, average='weighted')))\n",
        "print('Weighted F1-score: {:.2f}'.format(f1_score(data_test.Category, predictions, average='weighted')))\n",
        "\n",
        "from sklearn.metrics import classification_report\n",
        "print('\\nClassification Report\\n')\n",
        "print(classification_report(data_test.Category, predictions, target_names=class_names))"
      ],
      "metadata": {
        "colab": {
          "base_uri": "https://localhost:8080/"
        },
        "id": "pNi2B0QDqf7A",
        "outputId": "cce2eb40-933e-4a0b-a7f4-e9fd296be9fc"
      },
      "execution_count": null,
      "outputs": [
        {
          "output_type": "stream",
          "name": "stdout",
          "text": [
            "\n",
            "Accuracy: 0.95\n",
            "\n",
            "Micro Precision: 0.95\n",
            "Micro Recall: 0.95\n",
            "Micro F1-score: 0.95\n",
            "\n",
            "Macro Precision: 0.95\n",
            "Macro Recall: 0.95\n",
            "Macro F1-score: 0.95\n",
            "\n",
            "Weighted Precision: 0.95\n",
            "Weighted Recall: 0.95\n",
            "Weighted F1-score: 0.95\n",
            "\n",
            "Classification Report\n",
            "\n",
            "              precision    recall  f1-score   support\n",
            "\n",
            "    Positive       0.93      0.95      0.94      4042\n",
            "    Negative       0.94      0.91      0.93      3980\n",
            "     Neutral       0.97      0.98      0.97      4030\n",
            "\n",
            "    accuracy                           0.95     12052\n",
            "   macro avg       0.95      0.95      0.95     12052\n",
            "weighted avg       0.95      0.95      0.95     12052\n",
            "\n"
          ]
        }
      ]
    },
    {
      "cell_type": "code",
      "source": [
        "from sklearn.metrics import confusion_matrix, classification_report, log_loss, cohen_kappa_score, roc_auc_score, roc_curve\n",
        "from sklearn import metrics\n",
        "\n",
        "cm = confusion_matrix(data_test.Category, predictions)\n",
        "\n",
        "TP = cm[0][0]\n",
        "TN = cm[1][1]\n",
        "FP = cm[0][1]\n",
        "FN = cm[1][0]"
      ],
      "metadata": {
        "id": "MAtDwZd0qf9a"
      },
      "execution_count": null,
      "outputs": []
    },
    {
      "cell_type": "code",
      "source": [
        "from sklearn import metrics\n",
        "print('Sensitivity : ', TP/(TP+FN))\n",
        "print('Specificity : ', TN/(TN+FP))\n",
        "print('false positive rate : ', FP/(FP+TN))\n",
        "print('false negative rate : ', FN/(FN+TP))\n",
        "print('Negative Predictive Value : ', TN/(TN+FN))\n",
        "print('False Discovery rate : ', FP/(TP+FP))\n"
      ],
      "metadata": {
        "colab": {
          "base_uri": "https://localhost:8080/"
        },
        "id": "kGgxTVxHqtBF",
        "outputId": "42578824-2cc1-4e35-d54b-837e95f7136e"
      },
      "execution_count": null,
      "outputs": [
        {
          "output_type": "stream",
          "name": "stdout",
          "text": [
            "Sensitivity :  0.9386653581943082\n",
            "Specificity :  0.9553688632186925\n",
            "false positive rate :  0.04463113678130743\n",
            "false negative rate :  0.061334641805691856\n",
            "Negative Predictive Value :  0.9357161223965029\n",
            "False Discovery rate :  0.04254254254254254\n"
          ]
        }
      ]
    },
    {
      "cell_type": "code",
      "source": [
        "print('Mean Absolute Error:', metrics.mean_absolute_error(y_test,model.predict(X_test_pad)))\n",
        "print('Mean Squared Error:', metrics.mean_squared_error(y_test,model.predict(X_test_pad)))\n",
        "print('Root Mean Squared Error:', np.sqrt(metrics.mean_squared_error(y_test,model.predict(X_test_pad))))\n",
        "print('Cohen_Kappa_Score:', cohen_kappa_score(data_test.Category, predictions))"
      ],
      "metadata": {
        "colab": {
          "base_uri": "https://localhost:8080/"
        },
        "id": "WuvTNNJxqtIB",
        "outputId": "4c88f27e-681a-4aa0-8854-11120df6c39b"
      },
      "execution_count": null,
      "outputs": [
        {
          "output_type": "stream",
          "name": "stdout",
          "text": [
            "377/377 [==============================] - 116s 308ms/step\n",
            "Mean Absolute Error: 0.073556095\n",
            "377/377 [==============================] - 128s 341ms/step\n",
            "Mean Squared Error: 0.029692898\n",
            "377/377 [==============================] - 122s 323ms/step\n",
            "Root Mean Squared Error: 0.17231627\n",
            "Cohen_Kappa_Score: 0.9190940700553353\n"
          ]
        }
      ]
    },
    {
      "cell_type": "markdown",
      "source": [
        "**2. BiLSTM**"
      ],
      "metadata": {
        "id": "L4zWFj_sq1wG"
      }
    },
    {
      "cell_type": "code",
      "source": [
        "embedd_layer = Embedding(vocab_size,\n",
        "                         GLOVE_DIM,\n",
        "                         input_length = max_seq_len,\n",
        "                         weights = [emb_matrix],\n",
        "                         trainable=False)\n",
        "\n",
        "lstm_size = 128"
      ],
      "metadata": {
        "id": "Y2qwb5o2q56y"
      },
      "execution_count": null,
      "outputs": []
    },
    {
      "cell_type": "code",
      "source": [
        "model = Sequential()\n",
        "model.add(embedd_layer)\n",
        "\n",
        "model.add(SpatialDropout1D(0.2))\n",
        "\n",
        "model.add(Conv1D(filters=32, kernel_size=3, padding='same', activation='relu'))\n",
        "model.add(MaxPooling1D(pool_size=2))\n",
        "\n",
        "model.add(Conv1D(filters=32, kernel_size=3, padding='same', activation='relu'))\n",
        "model.add(MaxPooling1D(pool_size=2))\n",
        "\n",
        "model.add(Dropout(0.5))\n",
        "\n",
        "model.add(Bidirectional(LSTM(lstm_size, return_sequences = True)))\n",
        "model.add(Dropout(0.5))\n",
        "\n",
        "model.add(Bidirectional(LSTM(lstm_size)))\n",
        "model.add(Dropout(0.5))\n",
        "\n",
        "model.add(Dense(num_classes, activation='softmax'))\n",
        "\n",
        "model.compile(loss = 'categorical_crossentropy', optimizer = 'adam', metrics = ['accuracy'])\n",
        "model.summary()"
      ],
      "metadata": {
        "colab": {
          "base_uri": "https://localhost:8080/"
        },
        "id": "-mEdZTKYq5-C",
        "outputId": "f68fa980-176d-44fb-9b68-ea001b81a7bc"
      },
      "execution_count": null,
      "outputs": [
        {
          "output_type": "stream",
          "name": "stdout",
          "text": [
            "Model: \"sequential_1\"\n",
            "_________________________________________________________________\n",
            " Layer (type)                Output Shape              Param #   \n",
            "=================================================================\n",
            " embedding_1 (Embedding)     (None, 1000, 200)         2295400   \n",
            "                                                                 \n",
            " spatial_dropout1d_1 (Spati  (None, 1000, 200)         0         \n",
            " alDropout1D)                                                    \n",
            "                                                                 \n",
            " conv1d_2 (Conv1D)           (None, 1000, 32)          19232     \n",
            "                                                                 \n",
            " max_pooling1d_2 (MaxPoolin  (None, 500, 32)           0         \n",
            " g1D)                                                            \n",
            "                                                                 \n",
            " conv1d_3 (Conv1D)           (None, 500, 32)           3104      \n",
            "                                                                 \n",
            " max_pooling1d_3 (MaxPoolin  (None, 250, 32)           0         \n",
            " g1D)                                                            \n",
            "                                                                 \n",
            " dropout_3 (Dropout)         (None, 250, 32)           0         \n",
            "                                                                 \n",
            " bidirectional (Bidirection  (None, 250, 256)          164864    \n",
            " al)                                                             \n",
            "                                                                 \n",
            " dropout_4 (Dropout)         (None, 250, 256)          0         \n",
            "                                                                 \n",
            " bidirectional_1 (Bidirecti  (None, 256)               394240    \n",
            " onal)                                                           \n",
            "                                                                 \n",
            " dropout_5 (Dropout)         (None, 256)               0         \n",
            "                                                                 \n",
            " dense_1 (Dense)             (None, 3)                 771       \n",
            "                                                                 \n",
            "=================================================================\n",
            "Total params: 2877611 (10.98 MB)\n",
            "Trainable params: 582211 (2.22 MB)\n",
            "Non-trainable params: 2295400 (8.76 MB)\n",
            "_________________________________________________________________\n"
          ]
        }
      ]
    },
    {
      "cell_type": "code",
      "source": [
        "from time import time\n",
        "t1 = time()\n",
        "\n",
        "batch_size = 256\n",
        "epochs = 70\n",
        "\n",
        "print(X_test_pad.shape)\n",
        "print(y_test.shape)\n",
        "\n",
        "print(X_train_pad.shape)\n",
        "print(y_train.shape)"
      ],
      "metadata": {
        "colab": {
          "base_uri": "https://localhost:8080/"
        },
        "id": "LfSwWzLYq6Ao",
        "outputId": "dacb67e8-13bd-449c-99bf-4e72e70216b4"
      },
      "execution_count": null,
      "outputs": [
        {
          "output_type": "stream",
          "name": "stdout",
          "text": [
            "(12052, 1000)\n",
            "(12052, 3)\n",
            "(12052, 1000)\n",
            "(12052, 3)\n"
          ]
        }
      ]
    },
    {
      "cell_type": "code",
      "source": [
        "hist = model.fit(X_train_pad, y_train,\n",
        "                 batch_size=batch_size,\n",
        "                 epochs=epochs,\n",
        "                 validation_data=(X_test_pad,y_test))"
      ],
      "metadata": {
        "colab": {
          "base_uri": "https://localhost:8080/"
        },
        "id": "d-T-i4IJq6Cs",
        "outputId": "be5aca33-2a74-4d22-9a13-39f819bfb727"
      },
      "execution_count": null,
      "outputs": [
        {
          "output_type": "stream",
          "name": "stdout",
          "text": [
            "Epoch 1/70\n",
            "48/48 [==============================] - 535s 11s/step - loss: 0.9187 - accuracy: 0.5300 - val_loss: 0.7253 - val_accuracy: 0.6064\n",
            "Epoch 2/70\n",
            "48/48 [==============================] - 548s 12s/step - loss: 0.7272 - accuracy: 0.6625 - val_loss: 0.6211 - val_accuracy: 0.7247\n",
            "Epoch 3/70\n",
            "48/48 [==============================] - 514s 11s/step - loss: 0.6353 - accuracy: 0.7205 - val_loss: 0.5454 - val_accuracy: 0.7663\n",
            "Epoch 4/70\n",
            "48/48 [==============================] - 534s 11s/step - loss: 0.5943 - accuracy: 0.7423 - val_loss: 0.5115 - val_accuracy: 0.7805\n",
            "Epoch 5/70\n",
            "48/48 [==============================] - 512s 11s/step - loss: 0.5661 - accuracy: 0.7554 - val_loss: 0.5002 - val_accuracy: 0.7868\n",
            "Epoch 6/70\n",
            "48/48 [==============================] - 527s 11s/step - loss: 0.5495 - accuracy: 0.7649 - val_loss: 0.4992 - val_accuracy: 0.7816\n",
            "Epoch 7/70\n",
            "48/48 [==============================] - 569s 12s/step - loss: 0.5395 - accuracy: 0.7659 - val_loss: 0.4749 - val_accuracy: 0.7916\n",
            "Epoch 8/70\n",
            "48/48 [==============================] - 490s 10s/step - loss: 0.5173 - accuracy: 0.7798 - val_loss: 0.4670 - val_accuracy: 0.8056\n",
            "Epoch 9/70\n",
            "48/48 [==============================] - 533s 11s/step - loss: 0.5232 - accuracy: 0.7775 - val_loss: 0.4545 - val_accuracy: 0.8007\n",
            "Epoch 10/70\n",
            "48/48 [==============================] - 516s 11s/step - loss: 0.5059 - accuracy: 0.7812 - val_loss: 0.4305 - val_accuracy: 0.8203\n",
            "Epoch 11/70\n",
            "48/48 [==============================] - 526s 11s/step - loss: 0.4870 - accuracy: 0.7907 - val_loss: 0.4445 - val_accuracy: 0.8122\n",
            "Epoch 12/70\n",
            "48/48 [==============================] - 508s 11s/step - loss: 0.4862 - accuracy: 0.7978 - val_loss: 0.4189 - val_accuracy: 0.8286\n",
            "Epoch 13/70\n",
            "48/48 [==============================] - 534s 11s/step - loss: 0.4769 - accuracy: 0.7985 - val_loss: 0.4037 - val_accuracy: 0.8288\n",
            "Epoch 14/70\n",
            "48/48 [==============================] - 511s 11s/step - loss: 0.4708 - accuracy: 0.8018 - val_loss: 0.4019 - val_accuracy: 0.8317\n",
            "Epoch 15/70\n",
            "48/48 [==============================] - 535s 11s/step - loss: 0.4677 - accuracy: 0.8032 - val_loss: 0.4027 - val_accuracy: 0.8303\n",
            "Epoch 16/70\n",
            "48/48 [==============================] - 515s 11s/step - loss: 0.4548 - accuracy: 0.8091 - val_loss: 0.3833 - val_accuracy: 0.8436\n",
            "Epoch 17/70\n",
            "48/48 [==============================] - 538s 11s/step - loss: 0.4502 - accuracy: 0.8103 - val_loss: 0.3749 - val_accuracy: 0.8493\n",
            "Epoch 18/70\n",
            "48/48 [==============================] - 509s 11s/step - loss: 0.4418 - accuracy: 0.8146 - val_loss: 0.3729 - val_accuracy: 0.8489\n",
            "Epoch 19/70\n",
            "48/48 [==============================] - 505s 11s/step - loss: 0.4454 - accuracy: 0.8109 - val_loss: 0.3628 - val_accuracy: 0.8540\n",
            "Epoch 20/70\n",
            "48/48 [==============================] - 524s 11s/step - loss: 0.4354 - accuracy: 0.8192 - val_loss: 0.3713 - val_accuracy: 0.8555\n",
            "Epoch 21/70\n",
            "48/48 [==============================] - 514s 11s/step - loss: 0.4339 - accuracy: 0.8220 - val_loss: 0.3563 - val_accuracy: 0.8569\n",
            "Epoch 22/70\n",
            "48/48 [==============================] - 540s 11s/step - loss: 0.4223 - accuracy: 0.8257 - val_loss: 0.3554 - val_accuracy: 0.8623\n",
            "Epoch 23/70\n",
            "48/48 [==============================] - 522s 11s/step - loss: 0.4151 - accuracy: 0.8294 - val_loss: 0.3453 - val_accuracy: 0.8547\n",
            "Epoch 24/70\n",
            "48/48 [==============================] - 570s 12s/step - loss: 0.4128 - accuracy: 0.8337 - val_loss: 0.3487 - val_accuracy: 0.8592\n",
            "Epoch 25/70\n",
            "48/48 [==============================] - 504s 11s/step - loss: 0.4056 - accuracy: 0.8327 - val_loss: 0.3331 - val_accuracy: 0.8735\n",
            "Epoch 26/70\n",
            "48/48 [==============================] - 505s 11s/step - loss: 0.4031 - accuracy: 0.8348 - val_loss: 0.3342 - val_accuracy: 0.8755\n",
            "Epoch 27/70\n",
            "48/48 [==============================] - 536s 11s/step - loss: 0.3963 - accuracy: 0.8372 - val_loss: 0.3306 - val_accuracy: 0.8754\n",
            "Epoch 28/70\n",
            "48/48 [==============================] - 535s 11s/step - loss: 0.3963 - accuracy: 0.8401 - val_loss: 0.3077 - val_accuracy: 0.8815\n",
            "Epoch 29/70\n",
            "48/48 [==============================] - 528s 11s/step - loss: 0.3873 - accuracy: 0.8438 - val_loss: 0.3263 - val_accuracy: 0.8740\n",
            "Epoch 30/70\n",
            "48/48 [==============================] - 545s 11s/step - loss: 0.3970 - accuracy: 0.8334 - val_loss: 0.3011 - val_accuracy: 0.8847\n",
            "Epoch 31/70\n",
            "48/48 [==============================] - 516s 11s/step - loss: 0.3797 - accuracy: 0.8464 - val_loss: 0.3038 - val_accuracy: 0.8830\n",
            "Epoch 32/70\n",
            "48/48 [==============================] - 574s 12s/step - loss: 0.3842 - accuracy: 0.8443 - val_loss: 0.2936 - val_accuracy: 0.8897\n",
            "Epoch 33/70\n",
            "48/48 [==============================] - 504s 11s/step - loss: 0.3815 - accuracy: 0.8468 - val_loss: 0.2981 - val_accuracy: 0.8818\n",
            "Epoch 34/70\n",
            "48/48 [==============================] - 513s 11s/step - loss: 0.3755 - accuracy: 0.8486 - val_loss: 0.2864 - val_accuracy: 0.8924\n",
            "Epoch 35/70\n",
            "48/48 [==============================] - 539s 11s/step - loss: 0.3668 - accuracy: 0.8501 - val_loss: 0.2769 - val_accuracy: 0.8973\n",
            "Epoch 36/70\n",
            "48/48 [==============================] - 519s 11s/step - loss: 0.3697 - accuracy: 0.8481 - val_loss: 0.2787 - val_accuracy: 0.8983\n",
            "Epoch 37/70\n",
            "48/48 [==============================] - 514s 11s/step - loss: 0.3552 - accuracy: 0.8561 - val_loss: 0.2737 - val_accuracy: 0.8950\n",
            "Epoch 38/70\n",
            "48/48 [==============================] - 538s 11s/step - loss: 0.3598 - accuracy: 0.8575 - val_loss: 0.2635 - val_accuracy: 0.9035\n",
            "Epoch 39/70\n",
            "48/48 [==============================] - 508s 11s/step - loss: 0.3548 - accuracy: 0.8588 - val_loss: 0.2877 - val_accuracy: 0.8864\n",
            "Epoch 40/70\n",
            "48/48 [==============================] - 516s 11s/step - loss: 0.3563 - accuracy: 0.8552 - val_loss: 0.2911 - val_accuracy: 0.8923\n",
            "Epoch 41/70\n",
            "48/48 [==============================] - 527s 11s/step - loss: 0.3433 - accuracy: 0.8657 - val_loss: 0.2550 - val_accuracy: 0.9076\n",
            "Epoch 42/70\n",
            "48/48 [==============================] - 518s 11s/step - loss: 0.3436 - accuracy: 0.8664 - val_loss: 0.2613 - val_accuracy: 0.9005\n",
            "Epoch 43/70\n",
            " 7/48 [===>..........................] - ETA: 5:15 - loss: 0.3319 - accuracy: 0.8577"
          ]
        }
      ]
    },
    {
      "cell_type": "code",
      "source": [
        "t2 = time()\n",
        "t_delta = round(t2-t1,2)\n",
        "print(t_delta)"
      ],
      "metadata": {
        "id": "86vaMtNxq6FZ"
      },
      "execution_count": null,
      "outputs": []
    },
    {
      "cell_type": "code",
      "source": [
        "# Accuracy\n",
        "plt.plot(hist.history['accuracy'])\n",
        "plt.plot(hist.history['val_accuracy'])\n",
        "plt.title('model accuracy')\n",
        "plt.ylabel('accuracy')\n",
        "plt.xlabel('epoch')\n",
        "plt.legend(['train', 'validation'], loc='upper left')\n",
        "plt.show()\n",
        "\n",
        "# Loss\n",
        "plt.plot(hist.history['loss'])\n",
        "plt.plot(hist.history['val_loss'])\n",
        "plt.title('model loss')\n",
        "plt.ylabel('loss')\n",
        "plt.xlabel('epoch')\n",
        "plt.legend(['train', 'validation'], loc='upper left')\n",
        "plt.show()"
      ],
      "metadata": {
        "id": "APYuhMkCq6QX"
      },
      "execution_count": null,
      "outputs": []
    },
    {
      "cell_type": "code",
      "source": [
        "import numpy as np\n",
        "from sklearn.metrics import precision_recall_fscore_support"
      ],
      "metadata": {
        "id": "vkf-9N6xq6Tu"
      },
      "execution_count": null,
      "outputs": []
    },
    {
      "cell_type": "code",
      "source": [
        "predictions = model.predict(X_test_pad)\n",
        "predictions = np.argmax(predictions, axis=1)\n",
        "predictions = [class_names[pred] for pred in predictions]"
      ],
      "metadata": {
        "id": "22xbdsD1q6WY"
      },
      "execution_count": null,
      "outputs": []
    },
    {
      "cell_type": "code",
      "source": [
        "import numpy as np\n",
        "from sklearn.metrics import precision_recall_fscore_support"
      ],
      "metadata": {
        "id": "Nk72dCe3q6cd"
      },
      "execution_count": null,
      "outputs": []
    },
    {
      "cell_type": "code",
      "source": [
        "print(precision_recall_fscore_support(data_test.Category, predictions, average='micro'))\n",
        "print(precision_recall_fscore_support(data_test.Category, predictions, average='macro'))\n",
        "print(precision_recall_fscore_support(data_test.Category, predictions, average='weighted'))"
      ],
      "metadata": {
        "id": "EYNfpNCCq6fa"
      },
      "execution_count": null,
      "outputs": []
    },
    {
      "cell_type": "code",
      "source": [
        "\n",
        "def plot_confusion_matrix(y_true, y_pred, classes,\n",
        "                          normalize=False,\n",
        "                          title=None,\n",
        "                          cmap=plt.cm.Blues):\n",
        "    if not title:\n",
        "        if normalize:\n",
        "            title = 'Normalized confusion matrix'\n",
        "        else:\n",
        "            title = 'Confusion matrix, without normalization'\n",
        "\n",
        "    cm = confusion_matrix(y_true, y_pred)\n",
        "\n",
        "    if normalize:\n",
        "        cm = cm.astype('float') / cm.sum(axis=1)[:, np.newaxis]\n",
        "\n",
        "    fig, ax = plt.subplots()\n",
        "\n",
        "    fig.set_size_inches(12.5, 7.5)\n",
        "    im = ax.imshow(cm, interpolation='nearest', cmap=cmap)\n",
        "    ax.figure.colorbar(im, ax=ax)\n",
        "    ax.grid(False)\n",
        "\n",
        "    ax.set(xticks=np.arange(cm.shape[1]),\n",
        "           yticks=np.arange(cm.shape[0]),\n",
        "           xticklabels=classes, yticklabels=classes,\n",
        "           title=title,\n",
        "           ylabel='True label',\n",
        "           xlabel='Predicted label')\n",
        "\n",
        "    plt.setp(ax.get_xticklabels(), rotation=45, ha=\"right\",\n",
        "             rotation_mode=\"anchor\")\n",
        "\n",
        "    fmt = '.2f' if normalize else 'd'\n",
        "    thresh = cm.max() / 2.\n",
        "    for i in range(cm.shape[0]):\n",
        "        for j in range(cm.shape[1]):\n",
        "            ax.text(j, i, format(cm[i, j], fmt),\n",
        "                    ha=\"center\", va=\"center\",\n",
        "                    color=\"white\" if cm[i, j] > thresh else \"black\")\n",
        "    fig.tight_layout()\n",
        "    return ax\n",
        "\n",
        "print(\"\\nF1 Score: {:.2f}\".format(f1_score(data_test.Category, predictions, average='micro') * 100))\n",
        "\n",
        "plot_confusion_matrix(data_test.Category, predictions, classes=class_names, normalize=True, title='Normalized confusion matrix')\n",
        "plt.show()\n",
        "\n",
        "print('Message: {}\\nPredicted: {}'.format(X_test[6], predictions[6]))"
      ],
      "metadata": {
        "id": "Q2tt3vX7q6in"
      },
      "execution_count": null,
      "outputs": []
    },
    {
      "cell_type": "code",
      "source": [
        "from sklearn.metrics import accuracy_score, precision_score, recall_score, f1_score\n",
        "print('\\nAccuracy: {:.2f}\\n'.format(accuracy_score(data_test.Category, predictions)))\n",
        "\n",
        "print('Micro Precision: {:.2f}'.format(precision_score(data_test.Category, predictions, average='micro')))\n",
        "print('Micro Recall: {:.2f}'.format(recall_score(data_test.Category, predictions, average='micro')))\n",
        "print('Micro F1-score: {:.2f}\\n'.format(f1_score(data_test.Category, predictions, average='micro')))\n",
        "\n",
        "print('Macro Precision: {:.2f}'.format(precision_score(data_test.Category, predictions, average='macro')))\n",
        "print('Macro Recall: {:.2f}'.format(recall_score(data_test.Category, predictions, average='macro')))\n",
        "print('Macro F1-score: {:.2f}\\n'.format(f1_score(data_test.Category, predictions, average='macro')))\n",
        "\n",
        "print('Weighted Precision: {:.2f}'.format(precision_score(data_test.Category, predictions, average='weighted')))\n",
        "print('Weighted Recall: {:.2f}'.format(recall_score(data_test.Category, predictions, average='weighted')))\n",
        "print('Weighted F1-score: {:.2f}'.format(f1_score(data_test.Category, predictions, average='weighted')))\n",
        "\n",
        "from sklearn.metrics import classification_report\n",
        "print('\\nClassification Report\\n')\n",
        "print(classification_report(data_test.Category, predictions, target_names=class_names))"
      ],
      "metadata": {
        "id": "HulOw_wLq6kf"
      },
      "execution_count": null,
      "outputs": []
    },
    {
      "cell_type": "code",
      "source": [
        "from sklearn.metrics import confusion_matrix, classification_report, log_loss, cohen_kappa_score, roc_auc_score, roc_curve\n",
        "from sklearn import metrics\n",
        "\n",
        "cm = confusion_matrix(data_test.Category, predictions)\n",
        "\n",
        "TP = cm[0][0]\n",
        "TN = cm[1][1]\n",
        "FP = cm[0][1]\n",
        "FN = cm[1][0]"
      ],
      "metadata": {
        "id": "N0fF0QcNq6nl"
      },
      "execution_count": null,
      "outputs": []
    },
    {
      "cell_type": "code",
      "source": [
        "from sklearn import metrics\n",
        "print('Sensitivity : ', TP/(TP+FN))\n",
        "print('Specificity : ', TN/(TN+FP))\n",
        "print('false positive rate : ', FP/(FP+TN))\n",
        "print('false negative rate : ', FN/(FN+TP))\n",
        "print('Negative Predictive Value : ', TN/(TN+FN))\n",
        "print('False Discovery rate : ', FP/(TP+FP))\n"
      ],
      "metadata": {
        "id": "yMXKBRptq6rn"
      },
      "execution_count": null,
      "outputs": []
    },
    {
      "cell_type": "code",
      "source": [
        "print('Mean Absolute Error:', metrics.mean_absolute_error(y_test,model.predict(X_test_pad)))\n",
        "print('Mean Squared Error:', metrics.mean_squared_error(y_test,model.predict(X_test_pad)))\n",
        "print('Root Mean Squared Error:', np.sqrt(metrics.mean_squared_error(y_test,model.predict(X_test_pad))))\n",
        "print('Cohen_Kappa_Score:', cohen_kappa_score(data_test.Category, predictions))"
      ],
      "metadata": {
        "id": "U019BWfmq6uY"
      },
      "execution_count": null,
      "outputs": []
    },
    {
      "cell_type": "markdown",
      "source": [
        "**3. GRU**"
      ],
      "metadata": {
        "id": "Rr6MMXXZroYb"
      }
    },
    {
      "cell_type": "code",
      "source": [
        "embedd_layer = Embedding(vocab_size,\n",
        "                         GLOVE_DIM,\n",
        "                         input_length=max_seq_len,\n",
        "                         weights=[emb_matrix],\n",
        "                         trainable=False)\n",
        "\n",
        "gru_size = 128"
      ],
      "metadata": {
        "id": "vDYIrgeEq6xJ"
      },
      "execution_count": null,
      "outputs": []
    },
    {
      "cell_type": "code",
      "source": [
        "model = Sequential()\n",
        "model.add(embedd_layer)\n",
        "\n",
        "model.add(SpatialDropout1D(0.2))\n",
        "\n",
        "model.add(Conv1D(filters=32, kernel_size=3, padding='same', activation='relu'))\n",
        "model.add(MaxPooling1D(pool_size=2))\n",
        "\n",
        "model.add(Conv1D(filters=32, kernel_size=3, padding='same', activation='relu'))\n",
        "model.add(MaxPooling1D(pool_size=2))\n",
        "\n",
        "model.add(Dropout(0.5))\n",
        "\n",
        "model.add(GRU(gru_size, return_sequences=True))\n",
        "model.add(Dropout(0.5))\n",
        "\n",
        "model.add(GRU(gru_size))\n",
        "model.add(Dropout(0.5))\n",
        "\n",
        "model.add(Dense(num_classes, activation='softmax'))\n",
        "\n",
        "model.compile(loss='categorical_crossentropy', optimizer='adam', metrics=['accuracy'])\n",
        "model.summary()"
      ],
      "metadata": {
        "id": "q9WJaJNVrr0v"
      },
      "execution_count": null,
      "outputs": []
    },
    {
      "cell_type": "code",
      "source": [
        "hist = model.fit(X_train_pad, y_train,\n",
        "                 batch_size=batch_size,\n",
        "                 epochs=epochs,\n",
        "                 validation_data=(X_test_pad,y_test))"
      ],
      "metadata": {
        "id": "t6NH2vgbrr3y"
      },
      "execution_count": null,
      "outputs": []
    },
    {
      "cell_type": "code",
      "source": [
        "t2 = time()\n",
        "t_delta = round(t2-t1,2)\n",
        "print(t_delta)"
      ],
      "metadata": {
        "id": "ewokFQWyrsBf"
      },
      "execution_count": null,
      "outputs": []
    },
    {
      "cell_type": "code",
      "source": [
        "# Accuracy\n",
        "plt.plot(hist.history['accuracy'])\n",
        "plt.plot(hist.history['val_accuracy'])\n",
        "plt.title('model accuracy')\n",
        "plt.ylabel('accuracy')\n",
        "plt.xlabel('epoch')\n",
        "plt.legend(['train', 'validation'], loc='upper left')\n",
        "plt.show()\n",
        "\n",
        "# Loss\n",
        "plt.plot(hist.history['loss'])\n",
        "plt.plot(hist.history['val_loss'])\n",
        "plt.title('model loss')\n",
        "plt.ylabel('loss')\n",
        "plt.xlabel('epoch')\n",
        "plt.legend(['train', 'validation'], loc='upper left')\n",
        "plt.show()"
      ],
      "metadata": {
        "id": "R_c7GFcgrsEL"
      },
      "execution_count": null,
      "outputs": []
    },
    {
      "cell_type": "code",
      "source": [
        "import numpy as np\n",
        "from sklearn.metrics import precision_recall_fscore_support"
      ],
      "metadata": {
        "id": "gDQNW2cgrsGx"
      },
      "execution_count": null,
      "outputs": []
    },
    {
      "cell_type": "code",
      "source": [
        "predictions = model.predict(X_test_pad)\n",
        "predictions = np.argmax(predictions, axis=1)\n",
        "predictions = [class_names[pred] for pred in predictions]"
      ],
      "metadata": {
        "id": "J_IxWj9arsJ-"
      },
      "execution_count": null,
      "outputs": []
    },
    {
      "cell_type": "code",
      "source": [
        "import numpy as np\n",
        "from sklearn.metrics import precision_recall_fscore_support"
      ],
      "metadata": {
        "id": "ukzHuDdRrsQI"
      },
      "execution_count": null,
      "outputs": []
    },
    {
      "cell_type": "code",
      "source": [
        "print(precision_recall_fscore_support(data_test.Category, predictions, average='micro'))\n",
        "print(precision_recall_fscore_support(data_test.Category, predictions, average='macro'))\n",
        "print(precision_recall_fscore_support(data_test.Category, predictions, average='weighted'))"
      ],
      "metadata": {
        "id": "0jNenuuiq60R"
      },
      "execution_count": null,
      "outputs": []
    },
    {
      "cell_type": "code",
      "source": [
        "\n",
        "def plot_confusion_matrix(y_true, y_pred, classes,\n",
        "                          normalize=False,\n",
        "                          title=None,\n",
        "                          cmap=plt.cm.Blues):\n",
        "    if not title:\n",
        "        if normalize:\n",
        "            title = 'Normalized confusion matrix'\n",
        "        else:\n",
        "            title = 'Confusion matrix, without normalization'\n",
        "\n",
        "    cm = confusion_matrix(y_true, y_pred)\n",
        "\n",
        "    if normalize:\n",
        "        cm = cm.astype('float') / cm.sum(axis=1)[:, np.newaxis]\n",
        "\n",
        "    fig, ax = plt.subplots()\n",
        "\n",
        "    fig.set_size_inches(12.5, 7.5)\n",
        "    im = ax.imshow(cm, interpolation='nearest', cmap=cmap)\n",
        "    ax.figure.colorbar(im, ax=ax)\n",
        "    ax.grid(False)\n",
        "\n",
        "    ax.set(xticks=np.arange(cm.shape[1]),\n",
        "           yticks=np.arange(cm.shape[0]),\n",
        "           xticklabels=classes, yticklabels=classes,\n",
        "           title=title,\n",
        "           ylabel='True label',\n",
        "           xlabel='Predicted label')\n",
        "\n",
        "    plt.setp(ax.get_xticklabels(), rotation=45, ha=\"right\",\n",
        "             rotation_mode=\"anchor\")\n",
        "\n",
        "    fmt = '.2f' if normalize else 'd'\n",
        "    thresh = cm.max() / 2.\n",
        "    for i in range(cm.shape[0]):\n",
        "        for j in range(cm.shape[1]):\n",
        "            ax.text(j, i, format(cm[i, j], fmt),\n",
        "                    ha=\"center\", va=\"center\",\n",
        "                    color=\"white\" if cm[i, j] > thresh else \"black\")\n",
        "    fig.tight_layout()\n",
        "    return ax\n",
        "\n",
        "print(\"\\nF1 Score: {:.2f}\".format(f1_score(data_test.Category, predictions, average='micro') * 100))\n",
        "\n",
        "plot_confusion_matrix(data_test.Category, predictions, classes=class_names, normalize=True, title='Normalized confusion matrix')\n",
        "plt.show()\n",
        "\n",
        "print('Message: {}\\nPredicted: {}'.format(X_test[6], predictions[6]))"
      ],
      "metadata": {
        "id": "OhQkXnd8q63Q"
      },
      "execution_count": null,
      "outputs": []
    },
    {
      "cell_type": "code",
      "source": [
        "from sklearn.metrics import accuracy_score, precision_score, recall_score, f1_score\n",
        "print('\\nAccuracy: {:.2f}\\n'.format(accuracy_score(data_test.Category, predictions)))\n",
        "\n",
        "print('Micro Precision: {:.2f}'.format(precision_score(data_test.Category, predictions, average='micro')))\n",
        "print('Micro Recall: {:.2f}'.format(recall_score(data_test.Category, predictions, average='micro')))\n",
        "print('Micro F1-score: {:.2f}\\n'.format(f1_score(data_test.Category, predictions, average='micro')))\n",
        "\n",
        "print('Macro Precision: {:.2f}'.format(precision_score(data_test.Category, predictions, average='macro')))\n",
        "print('Macro Recall: {:.2f}'.format(recall_score(data_test.Category, predictions, average='macro')))\n",
        "print('Macro F1-score: {:.2f}\\n'.format(f1_score(data_test.Category, predictions, average='macro')))\n",
        "\n",
        "print('Weighted Precision: {:.2f}'.format(precision_score(data_test.Category, predictions, average='weighted')))\n",
        "print('Weighted Recall: {:.2f}'.format(recall_score(data_test.Category, predictions, average='weighted')))\n",
        "print('Weighted F1-score: {:.2f}'.format(f1_score(data_test.Category, predictions, average='weighted')))\n",
        "\n",
        "from sklearn.metrics import classification_report\n",
        "print('\\nClassification Report\\n')\n",
        "print(classification_report(data_test.Category, predictions, target_names=class_names))"
      ],
      "metadata": {
        "id": "oVhiMlbrq66V"
      },
      "execution_count": null,
      "outputs": []
    },
    {
      "cell_type": "code",
      "source": [
        "from sklearn.metrics import confusion_matrix, classification_report, log_loss, cohen_kappa_score, roc_auc_score, roc_curve\n",
        "from sklearn import metrics\n",
        "\n",
        "cm = confusion_matrix(data_test.Category, predictions)\n",
        "\n",
        "TP = cm[0][0]\n",
        "TN = cm[1][1]\n",
        "FP = cm[0][1]\n",
        "FN = cm[1][0]"
      ],
      "metadata": {
        "id": "b5gwfsDFwnHi"
      },
      "execution_count": null,
      "outputs": []
    },
    {
      "cell_type": "code",
      "source": [
        "from sklearn import metrics\n",
        "print('Sensitivity : ', TP/(TP+FN))\n",
        "print('Specificity : ', TN/(TN+FP))\n",
        "print('false positive rate : ', FP/(FP+TN))\n",
        "print('false negative rate : ', FN/(FN+TP))\n",
        "print('Negative Predictive Value : ', TN/(TN+FN))\n",
        "print('False Discovery rate : ', FP/(TP+FP))\n"
      ],
      "metadata": {
        "id": "GVwzUFScwnRi"
      },
      "execution_count": null,
      "outputs": []
    },
    {
      "cell_type": "code",
      "source": [
        "print('Mean Absolute Error:', metrics.mean_absolute_error(y_test,model.predict(X_test_pad)))\n",
        "print('Mean Squared Error:', metrics.mean_squared_error(y_test,model.predict(X_test_pad)))\n",
        "print('Root Mean Squared Error:', np.sqrt(metrics.mean_squared_error(y_test,model.predict(X_test_pad))))\n",
        "print('Cohen_Kappa_Score:', cohen_kappa_score(data_test.Category, predictions))"
      ],
      "metadata": {
        "id": "eHXuF13OwnVU"
      },
      "execution_count": null,
      "outputs": []
    },
    {
      "cell_type": "markdown",
      "source": [
        "**4. BiGRU**"
      ],
      "metadata": {
        "id": "wIwuLOepw4Q5"
      }
    },
    {
      "cell_type": "code",
      "source": [
        "embedd_layer = Embedding(vocab_size,\n",
        "                         GLOVE_DIM,\n",
        "                         input_length=max_seq_len,\n",
        "                         weights=[emb_matrix],\n",
        "                         trainable=False)"
      ],
      "metadata": {
        "id": "8N6HWS7VwnYC"
      },
      "execution_count": null,
      "outputs": []
    },
    {
      "cell_type": "code",
      "source": [
        "gru_size = 128\n",
        "\n",
        "model = Sequential()\n",
        "model.add(embedd_layer)\n",
        "\n",
        "model.add(SpatialDropout1D(0.2))\n",
        "\n",
        "model.add(Conv1D(filters=32, kernel_size=3, padding='same', activation='relu'))\n",
        "model.add(MaxPooling1D(pool_size=2))\n",
        "\n",
        "model.add(Conv1D(filters=32, kernel_size=3, padding='same', activation='relu'))\n",
        "model.add(MaxPooling1D(pool_size=2))\n",
        "\n",
        "model.add(Dropout(0.5))\n",
        "\n",
        "model.add(Bidirectional(GRU(gru_size, return_sequences=True)))\n",
        "model.add(Dropout(0.5))\n",
        "\n",
        "model.add(Bidirectional(GRU(gru_size)))\n",
        "model.add(Dropout(0.5))\n",
        "\n",
        "model.add(Dense(num_classes, activation='softmax'))\n",
        "\n",
        "model.compile(loss='categorical_crossentropy', optimizer='adam', metrics=['accuracy'])\n",
        "model.summary()"
      ],
      "metadata": {
        "id": "pD9PXYYSx7s9"
      },
      "execution_count": null,
      "outputs": []
    },
    {
      "cell_type": "code",
      "source": [
        "from time import time\n",
        "t1 = time()\n",
        "\n",
        "batch_size = 256\n",
        "epochs = 70\n",
        "\n",
        "print(X_test_pad.shape)\n",
        "print(y_test.shape)\n",
        "\n",
        "print(X_train_pad.shape)\n",
        "print(y_train.shape)"
      ],
      "metadata": {
        "id": "WDitBqAgx7xx"
      },
      "execution_count": null,
      "outputs": []
    },
    {
      "cell_type": "code",
      "source": [
        "hist = model.fit(X_train_pad, y_train,\n",
        "                 batch_size=batch_size,\n",
        "                 epochs=epochs,\n",
        "                 validation_data=(X_test_pad,y_test))"
      ],
      "metadata": {
        "id": "1KgffZf2x73h"
      },
      "execution_count": null,
      "outputs": []
    },
    {
      "cell_type": "code",
      "source": [
        "t2 = time()\n",
        "t_delta = round(t2-t1,2)\n",
        "print(t_delta)"
      ],
      "metadata": {
        "id": "08tcDg5dx76c"
      },
      "execution_count": null,
      "outputs": []
    },
    {
      "cell_type": "code",
      "source": [
        "# Accuracy\n",
        "plt.plot(hist.history['accuracy'])\n",
        "plt.plot(hist.history['val_accuracy'])\n",
        "plt.title('model accuracy')\n",
        "plt.ylabel('accuracy')\n",
        "plt.xlabel('epoch')\n",
        "plt.legend(['train', 'validation'], loc='upper left')\n",
        "plt.show()\n",
        "\n",
        "# Loss\n",
        "plt.plot(hist.history['loss'])\n",
        "plt.plot(hist.history['val_loss'])\n",
        "plt.title('model loss')\n",
        "plt.ylabel('loss')\n",
        "plt.xlabel('epoch')\n",
        "plt.legend(['train', 'validation'], loc='upper left')\n",
        "plt.show()"
      ],
      "metadata": {
        "id": "5J3dkpbvx79y"
      },
      "execution_count": null,
      "outputs": []
    },
    {
      "cell_type": "code",
      "source": [
        "import numpy as np\n",
        "from sklearn.metrics import precision_recall_fscore_support"
      ],
      "metadata": {
        "id": "9ucZkHoJx8AS"
      },
      "execution_count": null,
      "outputs": []
    },
    {
      "cell_type": "code",
      "source": [
        "predictions = model.predict(X_test_pad)\n",
        "predictions = np.argmax(predictions, axis=1)\n",
        "predictions = [class_names[pred] for pred in predictions]"
      ],
      "metadata": {
        "id": "oq_ej_zYx8Cq"
      },
      "execution_count": null,
      "outputs": []
    },
    {
      "cell_type": "code",
      "source": [
        "import numpy as np\n",
        "from sklearn.metrics import precision_recall_fscore_support"
      ],
      "metadata": {
        "id": "zEDxcVp8x8G_"
      },
      "execution_count": null,
      "outputs": []
    },
    {
      "cell_type": "code",
      "source": [
        "print(precision_recall_fscore_support(data_test.Category, predictions, average='micro'))\n",
        "print(precision_recall_fscore_support(data_test.Category, predictions, average='macro'))\n",
        "print(precision_recall_fscore_support(data_test.Category, predictions, average='weighted'))"
      ],
      "metadata": {
        "id": "7Lie-ImHx8OO"
      },
      "execution_count": null,
      "outputs": []
    },
    {
      "cell_type": "code",
      "source": [
        "\n",
        "def plot_confusion_matrix(y_true, y_pred, classes,\n",
        "                          normalize=False,\n",
        "                          title=None,\n",
        "                          cmap=plt.cm.Blues):\n",
        "    if not title:\n",
        "        if normalize:\n",
        "            title = 'Normalized confusion matrix'\n",
        "        else:\n",
        "            title = 'Confusion matrix, without normalization'\n",
        "\n",
        "    cm = confusion_matrix(y_true, y_pred)\n",
        "\n",
        "    if normalize:\n",
        "        cm = cm.astype('float') / cm.sum(axis=1)[:, np.newaxis]\n",
        "\n",
        "    fig, ax = plt.subplots()\n",
        "\n",
        "    fig.set_size_inches(12.5, 7.5)\n",
        "    im = ax.imshow(cm, interpolation='nearest', cmap=cmap)\n",
        "    ax.figure.colorbar(im, ax=ax)\n",
        "    ax.grid(False)\n",
        "\n",
        "    ax.set(xticks=np.arange(cm.shape[1]),\n",
        "           yticks=np.arange(cm.shape[0]),\n",
        "           xticklabels=classes, yticklabels=classes,\n",
        "           title=title,\n",
        "           ylabel='True label',\n",
        "           xlabel='Predicted label')\n",
        "\n",
        "    plt.setp(ax.get_xticklabels(), rotation=45, ha=\"right\",\n",
        "             rotation_mode=\"anchor\")\n",
        "\n",
        "    fmt = '.2f' if normalize else 'd'\n",
        "    thresh = cm.max() / 2.\n",
        "    for i in range(cm.shape[0]):\n",
        "        for j in range(cm.shape[1]):\n",
        "            ax.text(j, i, format(cm[i, j], fmt),\n",
        "                    ha=\"center\", va=\"center\",\n",
        "                    color=\"white\" if cm[i, j] > thresh else \"black\")\n",
        "    fig.tight_layout()\n",
        "    return ax\n",
        "\n",
        "print(\"\\nF1 Score: {:.2f}\".format(f1_score(data_test.Category, predictions, average='micro') * 100))\n",
        "\n",
        "plot_confusion_matrix(data_test.Category, predictions, classes=class_names, normalize=True, title='Normalized confusion matrix')\n",
        "plt.show()\n",
        "\n",
        "print('Message: {}\\nPredicted: {}'.format(X_test[6], predictions[6]))"
      ],
      "metadata": {
        "id": "_WBfnMGQyRD_"
      },
      "execution_count": null,
      "outputs": []
    },
    {
      "cell_type": "code",
      "source": [
        "from sklearn.metrics import accuracy_score, precision_score, recall_score, f1_score\n",
        "print('\\nAccuracy: {:.2f}\\n'.format(accuracy_score(data_test.Category, predictions)))\n",
        "\n",
        "print('Micro Precision: {:.2f}'.format(precision_score(data_test.Category, predictions, average='micro')))\n",
        "print('Micro Recall: {:.2f}'.format(recall_score(data_test.Category, predictions, average='micro')))\n",
        "print('Micro F1-score: {:.2f}\\n'.format(f1_score(data_test.Category, predictions, average='micro')))\n",
        "\n",
        "print('Macro Precision: {:.2f}'.format(precision_score(data_test.Category, predictions, average='macro')))\n",
        "print('Macro Recall: {:.2f}'.format(recall_score(data_test.Category, predictions, average='macro')))\n",
        "print('Macro F1-score: {:.2f}\\n'.format(f1_score(data_test.Category, predictions, average='macro')))\n",
        "\n",
        "print('Weighted Precision: {:.2f}'.format(precision_score(data_test.Category, predictions, average='weighted')))\n",
        "print('Weighted Recall: {:.2f}'.format(recall_score(data_test.Category, predictions, average='weighted')))\n",
        "print('Weighted F1-score: {:.2f}'.format(f1_score(data_test.Category, predictions, average='weighted')))\n",
        "\n",
        "from sklearn.metrics import classification_report\n",
        "print('\\nClassification Report\\n')\n",
        "print(classification_report(data_test.Category, predictions, target_names=class_names))"
      ],
      "metadata": {
        "id": "g2SXBtT-yRHG"
      },
      "execution_count": null,
      "outputs": []
    },
    {
      "cell_type": "code",
      "source": [
        "from sklearn.metrics import confusion_matrix, classification_report, log_loss, cohen_kappa_score, roc_auc_score, roc_curve\n",
        "from sklearn import metrics\n",
        "\n",
        "cm = confusion_matrix(data_test.Category, predictions)\n",
        "\n",
        "TP = cm[0][0]\n",
        "TN = cm[1][1]\n",
        "FP = cm[0][1]\n",
        "FN = cm[1][0]"
      ],
      "metadata": {
        "id": "muCsH3EiyRLE"
      },
      "execution_count": null,
      "outputs": []
    },
    {
      "cell_type": "code",
      "source": [
        "from sklearn import metrics\n",
        "print('Sensitivity : ', TP/(TP+FN))\n",
        "print('Specificity : ', TN/(TN+FP))\n",
        "print('false positive rate : ', FP/(FP+TN))\n",
        "print('false negative rate : ', FN/(FN+TP))\n",
        "print('Negative Predictive Value : ', TN/(TN+FN))\n",
        "print('False Discovery rate : ', FP/(TP+FP))\n"
      ],
      "metadata": {
        "id": "yQ5o-qz1yRNN"
      },
      "execution_count": null,
      "outputs": []
    },
    {
      "cell_type": "code",
      "source": [
        "print('Mean Absolute Error:', metrics.mean_absolute_error(y_test,model.predict(X_test_pad)))\n",
        "print('Mean Squared Error:', metrics.mean_squared_error(y_test,model.predict(X_test_pad)))\n",
        "print('Root Mean Squared Error:', np.sqrt(metrics.mean_squared_error(y_test,model.predict(X_test_pad))))\n",
        "print('Cohen_Kappa_Score:', cohen_kappa_score(data_test.Category, predictions))"
      ],
      "metadata": {
        "id": "K8_S7fEUyeKs"
      },
      "execution_count": null,
      "outputs": []
    },
    {
      "cell_type": "code",
      "source": [],
      "metadata": {
        "id": "TiuFxMyWyeRd"
      },
      "execution_count": null,
      "outputs": []
    }
  ]
}